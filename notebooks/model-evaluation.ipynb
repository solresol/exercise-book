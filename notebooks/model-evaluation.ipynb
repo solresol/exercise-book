{
 "metadata": {
  "name": "",
  "signature": "sha256:ca797937e0350ffa5f3a558756184e108a64835bbfd09b0786e4a0415cf9e8d1"
 },
 "nbformat": 3,
 "nbformat_minor": 0,
 "worksheets": [
  {
   "cells": [
    {
     "cell_type": "code",
     "collapsed": false,
     "input": [
      "%matplotlib inline\n",
      "import pandas\n",
      "import sklearn.cross_validation"
     ],
     "language": "python",
     "metadata": {},
     "outputs": [],
     "prompt_number": 1
    },
    {
     "cell_type": "code",
     "collapsed": false,
     "input": [
      "sacramento = pandas.read_csv('Sacramentorealestatetransactions.csv',\n",
      "                             index_col=0\n",
      "                             )\n",
      "train_test_split = sklearn.cross_validation.train_test_split\n",
      "(train_X, test_X, train_Y, test_Y) = train_test_split(sacramento, \n",
      "                                                      sacramento.price,\n",
      "                                                      test_size=0.1)\n",
      "len(train_X), len(test_X)"
     ],
     "language": "python",
     "metadata": {},
     "outputs": [
      {
       "metadata": {},
       "output_type": "pyout",
       "prompt_number": 2,
       "text": [
        "(886, 99)"
       ]
      }
     ],
     "prompt_number": 2
    },
    {
     "cell_type": "code",
     "collapsed": false,
     "input": [
      "import sklearn.linear_model\n",
      "ols = sklearn.linear_model.LinearRegression()\n",
      "ols.fit(train_X[['beds', 'baths', 'sq__ft']], train_Y)\n",
      "zip(['beds', 'baths', 'sq__ft'], ols.coef_), ols.intercept_"
     ],
     "language": "python",
     "metadata": {},
     "outputs": [
      {
       "metadata": {},
       "output_type": "pyout",
       "prompt_number": 3,
       "text": [
        "([('beds', -5837.726130201354),\n",
        "  ('baths', 60213.165989720117),\n",
        "  ('sq__ft', 19.489604339833022)],\n",
        " 118853.81172449255)"
       ]
      }
     ],
     "prompt_number": 3
    },
    {
     "cell_type": "code",
     "collapsed": false,
     "input": [
      "predictions = ols.predict(test_X[['beds', 'baths', 'sq__ft']])"
     ],
     "language": "python",
     "metadata": {},
     "outputs": [],
     "prompt_number": 4
    },
    {
     "cell_type": "code",
     "collapsed": false,
     "input": [
      "import matplotlib.pyplot\n",
      "matplotlib.pyplot.scatter(test_Y, predictions)"
     ],
     "language": "python",
     "metadata": {},
     "outputs": [
      {
       "metadata": {},
       "output_type": "pyout",
       "prompt_number": 5,
       "text": [
        "<matplotlib.collections.PathCollection at 0x7f6a4d67b410>"
       ]
      },
      {
       "metadata": {},
       "output_type": "display_data",
       "png": "[encoded data removed]",
       "text": [
        "<matplotlib.figure.Figure at 0x7f6a4f6e8910>"
       ]
      }
     ],
     "prompt_number": 5
    },
    {
     "cell_type": "code",
     "collapsed": false,
     "input": [
      "import sklearn.metrics"
     ],
     "language": "python",
     "metadata": {},
     "outputs": [],
     "prompt_number": 6
    },
    {
     "cell_type": "code",
     "collapsed": false,
     "input": [
      "sklearn.metrics.r2_score(test_Y, predictions)"
     ],
     "language": "python",
     "metadata": {},
     "outputs": [
      {
       "metadata": {},
       "output_type": "pyout",
       "prompt_number": 7,
       "text": [
        "0.16505356432997076"
       ]
      }
     ],
     "prompt_number": 7
    },
    {
     "cell_type": "markdown",
     "metadata": {},
     "source": [
      "# Comparison with other predictors"
     ]
    },
    {
     "cell_type": "code",
     "collapsed": false,
     "input": [
      "import sklearn.dummy\n",
      "dummy = sklearn.dummy.DummyRegressor(strategy='mean')"
     ],
     "language": "python",
     "metadata": {},
     "outputs": [],
     "prompt_number": 8
    },
    {
     "cell_type": "code",
     "collapsed": false,
     "input": [
      "dummy.fit(train_X[['beds', 'baths', 'sq__ft']], train_Y)\n",
      "dummy_predictions = dummy.predict(test_X[['beds', 'baths', 'sq__ft']])\n",
      "matplotlib.pyplot.scatter(test_Y, dummy_predictions)"
     ],
     "language": "python",
     "metadata": {},
     "outputs": [
      {
       "metadata": {},
       "output_type": "pyout",
       "prompt_number": 9,
       "text": [
        "<matplotlib.collections.PathCollection at 0x7f6a4ad8ea10>"
       ]
      },
      {
       "metadata": {},
       "output_type": "display_data",
       "png": "[encoded data removed]",
       "text": [
        "<matplotlib.figure.Figure at 0x7f6a4d694090>"
       ]
      }
     ],
     "prompt_number": 9
    },
    {
     "cell_type": "code",
     "collapsed": false,
     "input": [
      "sklearn.metrics.r2_score(test_Y, dummy_predictions)"
     ],
     "language": "python",
     "metadata": {},
     "outputs": [
      {
       "metadata": {},
       "output_type": "pyout",
       "prompt_number": 10,
       "text": [
        "-0.0038774825554035441"
       ]
      }
     ],
     "prompt_number": 10
    },
    {
     "cell_type": "code",
     "collapsed": false,
     "input": [
      "import sklearn.tree\n",
      "tree = sklearn.tree.DecisionTreeRegressor()\n",
      "tree.fit(train_X[['beds', 'baths', 'sq__ft']], train_Y)\n",
      "tree_predictions = tree.predict(test_X[['beds', 'baths', 'sq__ft']])\n",
      "matplotlib.pyplot.scatter(test_Y, tree_predictions)\n",
      "sklearn.metrics.r2_score(test_Y, tree_predictions)"
     ],
     "language": "python",
     "metadata": {},
     "outputs": [
      {
       "metadata": {},
       "output_type": "pyout",
       "prompt_number": 11,
       "text": [
        "0.2848052127951437"
       ]
      },
      {
       "metadata": {},
       "output_type": "display_data",
       "png": "[encoded data removed]",
       "text": [
        "<matplotlib.figure.Figure at 0x7f6a4add1210>"
       ]
      }
     ],
     "prompt_number": 11
    },
    {
     "cell_type": "markdown",
     "metadata": {},
     "source": [
      "Let's re-do some of yesterday's pre-processing and see how we go."
     ]
    },
    {
     "cell_type": "code",
     "collapsed": false,
     "input": [
      "sacramento['zip_region'] = sacramento.zip / 10\n",
      "sacramento['is_condo'] = sacramento.type == 'Condo'\n",
      "sacramento['is_residential'] = sacramento.type == 'Residential'\n",
      "columns = ['beds', 'baths', 'sq__ft', 'zip', 'zip_region',\n",
      "           'is_condo', 'is_residential', 'latitude', 'longitude']"
     ],
     "language": "python",
     "metadata": {},
     "outputs": [],
     "prompt_number": 12
    },
    {
     "cell_type": "code",
     "collapsed": false,
     "input": [
      "train_test_split = sklearn.cross_validation.train_test_split\n",
      "(train_X, test_X, train_Y, test_Y) = train_test_split(sacramento, \n",
      "                                                      sacramento.price,\n",
      "                                                      test_size=0.1)"
     ],
     "language": "python",
     "metadata": {},
     "outputs": [],
     "prompt_number": 13
    },
    {
     "cell_type": "code",
     "collapsed": false,
     "input": [
      "tree = sklearn.tree.DecisionTreeRegressor()\n",
      "tree.fit(train_X[columns], train_Y)\n",
      "tree_predictions = tree.predict(test_X[columns])\n",
      "matplotlib.pyplot.scatter(test_Y, tree_predictions)\n",
      "sklearn.metrics.r2_score(test_Y, tree_predictions)"
     ],
     "language": "python",
     "metadata": {},
     "outputs": [
      {
       "metadata": {},
       "output_type": "pyout",
       "prompt_number": 14,
       "text": [
        "0.45591060134673655"
       ]
      },
      {
       "metadata": {},
       "output_type": "display_data",
       "png": "[encoded data removed]",
       "text": [
        "<matplotlib.figure.Figure at 0x7f6a4a41ee50>"
       ]
      }
     ],
     "prompt_number": 14
    },
    {
     "cell_type": "code",
     "collapsed": false,
     "input": [
      "sklearn.metrics.median_absolute_error(test_Y, tree_predictions)"
     ],
     "language": "python",
     "metadata": {},
     "outputs": [
      {
       "metadata": {},
       "output_type": "pyout",
       "prompt_number": 15,
       "text": [
        "43956.0"
       ]
      }
     ],
     "prompt_number": 15
    },
    {
     "cell_type": "code",
     "collapsed": false,
     "input": [
      "sklearn.metrics.mean_absolute_error(test_Y, tree_predictions)"
     ],
     "language": "python",
     "metadata": {},
     "outputs": [
      {
       "metadata": {},
       "output_type": "pyout",
       "prompt_number": 16,
       "text": [
        "71088.46464646465"
       ]
      }
     ],
     "prompt_number": 16
    },
    {
     "cell_type": "markdown",
     "metadata": {},
     "source": [
      "# Doing this analysis for real"
     ]
    },
    {
     "cell_type": "code",
     "collapsed": false,
     "input": [
      "import sklearn.grid_search"
     ],
     "language": "python",
     "metadata": {},
     "outputs": [],
     "prompt_number": 16
    },
    {
     "cell_type": "code",
     "collapsed": false,
     "input": [
      "params = {\n",
      " 'max_depth': range(1,10),\n",
      " 'max_features': [None, 1,2,4],\n",
      "}\n",
      "tree = sklearn.tree.DecisionTreeRegressor()\n",
      "searcher = sklearn.grid_search.GridSearchCV(tree, params, cv=10)\n",
      "searcher.fit(sacramento[columns], sacramento.price)\n",
      "searcher.best_score_"
     ],
     "language": "python",
     "metadata": {},
     "outputs": [
      {
       "metadata": {},
       "output_type": "pyout",
       "prompt_number": 18,
       "text": [
        "-0.65425498557101092"
       ]
      }
     ],
     "prompt_number": 18
    },
    {
     "cell_type": "code",
     "collapsed": false,
     "input": [
      "searcher.best_params_"
     ],
     "language": "python",
     "metadata": {},
     "outputs": [
      {
       "metadata": {},
       "output_type": "pyout",
       "prompt_number": 19,
       "text": [
        "{'max_depth': 6, 'max_features': 4}"
       ]
      }
     ],
     "prompt_number": 19
    },
    {
     "cell_type": "code",
     "collapsed": false,
     "input": [
      "searcher.best_estimator_"
     ],
     "language": "python",
     "metadata": {},
     "outputs": [
      {
       "metadata": {},
       "output_type": "pyout",
       "prompt_number": 20,
       "text": [
        "DecisionTreeRegressor(criterion='mse', max_depth=6, max_features=4,\n",
        "           max_leaf_nodes=None, min_samples_leaf=1, min_samples_split=2,\n",
        "           min_weight_fraction_leaf=0.0, presort=False, random_state=None,\n",
        "           splitter='best')"
       ]
      }
     ],
     "prompt_number": 20
    },
    {
     "cell_type": "code",
     "collapsed": false,
     "input": [
      "FinalAnswerBestPredictor = sklearn.tree.DecisionTreeRegressor(max_depth=6, max_features=4)\n",
      "FinalAnswerBestPredictor.fit(sacramento[columns], sacramento.price)"
     ],
     "language": "python",
     "metadata": {},
     "outputs": [
      {
       "metadata": {},
       "output_type": "pyout",
       "prompt_number": 22,
       "text": [
        "DecisionTreeRegressor(criterion='mse', max_depth=6, max_features=4,\n",
        "           max_leaf_nodes=None, min_samples_leaf=1, min_samples_split=2,\n",
        "           min_weight_fraction_leaf=0.0, presort=False, random_state=None,\n",
        "           splitter='best')"
       ]
      }
     ],
     "prompt_number": 22
    },
    {
     "cell_type": "code",
     "collapsed": false,
     "input": [
      "params = {\n",
      " 'residual_threshold': range(100000,200000,5000),\n",
      " 'max_trials': [100,1000,3000]\n",
      "}\n",
      "ransac = sklearn.linear_model.RANSACRegressor()\n",
      "searcher = sklearn.grid_search.GridSearchCV(ransac, params, cv=10)\n",
      "searcher.fit(sacramento[columns], sacramento.price)\n",
      "searcher.best_score_"
     ],
     "language": "python",
     "metadata": {},
     "outputs": [
      {
       "metadata": {},
       "output_type": "pyout",
       "prompt_number": 41,
       "text": [
        "-2.280836217848671"
       ]
      }
     ],
     "prompt_number": 41
    },
    {
     "cell_type": "code",
     "collapsed": false,
     "input": [
      "searcher.best_params_"
     ],
     "language": "python",
     "metadata": {},
     "outputs": [
      {
       "metadata": {},
       "output_type": "pyout",
       "prompt_number": 42,
       "text": [
        "{'max_trials': 1000, 'residual_threshold': 135000}"
       ]
      }
     ],
     "prompt_number": 42
    },
    {
     "cell_type": "code",
     "collapsed": false,
     "input": [
      "#searcher.best_estimator_.predict()\n",
      "two_samples = sacramento.sample(2)\n",
      "predictions = searcher.best_estimator_.predict(two_samples[columns])\n",
      "zip(two_samples.price, predictions)"
     ],
     "language": "python",
     "metadata": {},
     "outputs": [
      {
       "metadata": {},
       "output_type": "pyout",
       "prompt_number": 44,
       "text": [
        "[(680000, 71989.128219533712), (378000, 175594.3784991987)]"
       ]
      }
     ],
     "prompt_number": 44
    },
    {
     "cell_type": "code",
     "collapsed": false,
     "input": [
      "params = {\n",
      "  'alpha': [0.1, 1.0, 100.0, 1000000,2000000 ,1000000, 10000000]\n",
      "}\n",
      "lasso = sklearn.linear_model.Lasso()\n",
      "searcher = sklearn.grid_search.GridSearchCV(lasso, params, cv=10)\n",
      "searcher.fit(sacramento[columns], sacramento.price)\n",
      "searcher.best_score_"
     ],
     "language": "python",
     "metadata": {},
     "outputs": [
      {
       "metadata": {},
       "output_type": "pyout",
       "prompt_number": 56,
       "text": [
        "-0.87312425703695906"
       ]
      }
     ],
     "prompt_number": 56
    },
    {
     "cell_type": "code",
     "collapsed": false,
     "input": [
      "searcher.best_params_"
     ],
     "language": "python",
     "metadata": {},
     "outputs": [
      {
       "metadata": {},
       "output_type": "pyout",
       "prompt_number": 57,
       "text": [
        "{'alpha': 1000000}"
       ]
      }
     ],
     "prompt_number": 57
    },
    {
     "cell_type": "code",
     "collapsed": false,
     "input": [
      "zip(columns , searcher.best_estimator_.coef_)"
     ],
     "language": "python",
     "metadata": {},
     "outputs": [
      {
       "metadata": {},
       "output_type": "pyout",
       "prompt_number": 58,
       "text": [
        "[('beds', 0.0),\n",
        " ('baths', 0.0),\n",
        " ('sq__ft', 53.872609343089657),\n",
        " ('zip', -83.870601288039339),\n",
        " ('zip_region', -0.0),\n",
        " ('is_condo', -0.0),\n",
        " ('is_residential', 0.0),\n",
        " ('latitude', 0.0),\n",
        " ('longitude', 0.0)]"
       ]
      }
     ],
     "prompt_number": 58
    },
    {
     "cell_type": "code",
     "collapsed": false,
     "input": [],
     "language": "python",
     "metadata": {},
     "outputs": []
    }
   ],
   "metadata": {}
  }
 ]
}