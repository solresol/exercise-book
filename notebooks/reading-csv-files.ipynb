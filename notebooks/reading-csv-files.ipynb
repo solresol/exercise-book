{
 "metadata": {
  "name": "",
  "signature": "sha256:93df552abe981821f52617ca6b900f77260573f0f789fb8649cee05542c1727e"
 },
 "nbformat": 3,
 "nbformat_minor": 0,
 "worksheets": [
  {
   "cells": [
    {
     "cell_type": "markdown",
     "metadata": {},
     "source": [
      "# Learning how to manipulate and read CSV files\n",
      "\n",
      "The Pandas library is the best way to read CSV files."
     ]
    },
    {
     "cell_type": "code",
     "collapsed": false,
     "input": [
      "import pandas"
     ],
     "language": "python",
     "metadata": {},
     "outputs": [],
     "prompt_number": 1
    },
    {
     "cell_type": "code",
     "collapsed": false,
     "input": [
      "sales_data = pandas.read_csv('sales.csv')"
     ],
     "language": "python",
     "metadata": {},
     "outputs": [],
     "prompt_number": 5
    },
    {
     "cell_type": "markdown",
     "metadata": {},
     "source": [
      "Pandas returns objects that are very much like numpy arrays:\n",
      "\n",
      "- They have a shape\n",
      "- Statistical tools work"
     ]
    },
    {
     "cell_type": "code",
     "collapsed": false,
     "input": [
      "sales_data.shape"
     ],
     "language": "python",
     "metadata": {},
     "outputs": [
      {
       "metadata": {},
       "output_type": "pyout",
       "prompt_number": 7,
       "text": [
        "(200, 4)"
       ]
      }
     ],
     "prompt_number": 7
    },
    {
     "cell_type": "code",
     "collapsed": false,
     "input": [
      "sales_data.mean()"
     ],
     "language": "python",
     "metadata": {},
     "outputs": [
      {
       "metadata": {},
       "output_type": "pyout",
       "prompt_number": 12,
       "text": [
        "volume_sold          10.018684\n",
        "2015_margin          46.858895\n",
        "2015_q1_sales    154631.668200\n",
        "2016_q1_sales    154699.178750\n",
        "dtype: float64"
       ]
      }
     ],
     "prompt_number": 12
    },
    {
     "cell_type": "code",
     "collapsed": false,
     "input": [
      "sales_data.median()"
     ],
     "language": "python",
     "metadata": {},
     "outputs": [
      {
       "metadata": {},
       "output_type": "pyout",
       "prompt_number": 13,
       "text": [
        "volume_sold           8.166346\n",
        "2015_margin          36.562144\n",
        "2015_q1_sales    104199.410000\n",
        "2016_q1_sales    103207.200000\n",
        "dtype: float64"
       ]
      }
     ],
     "prompt_number": 13
    },
    {
     "cell_type": "markdown",
     "metadata": {},
     "source": [
      "but the actual type is a \"DataFrame\""
     ]
    },
    {
     "cell_type": "code",
     "collapsed": false,
     "input": [
      "type(sales_data)"
     ],
     "language": "python",
     "metadata": {},
     "outputs": [
      {
       "metadata": {},
       "output_type": "pyout",
       "prompt_number": 14,
       "text": [
        "pandas.core.frame.DataFrame"
       ]
      }
     ],
     "prompt_number": 14
    },
    {
     "cell_type": "markdown",
     "metadata": {},
     "source": [
      "Analysing lots of data, you probably want to look at the head, the tail,\n",
      "and take a random sample."
     ]
    },
    {
     "cell_type": "code",
     "collapsed": false,
     "input": [
      "sales_data.head()"
     ],
     "language": "python",
     "metadata": {},
     "outputs": [
      {
       "html": [
        "<div style=\"max-width:1500px;overflow:auto;\">\n",
        "<table border=\"1\" class=\"dataframe\">\n",
        "  <thead>\n",
        "    <tr style=\"text-align: right;\">\n",
        "      <th></th>\n",
        "      <th>volume_sold</th>\n",
        "      <th>2015_margin</th>\n",
        "      <th>2015_q1_sales</th>\n",
        "      <th>2016_q1_sales</th>\n",
        "    </tr>\n",
        "  </thead>\n",
        "  <tbody>\n",
        "    <tr>\n",
        "      <th>0</th>\n",
        "      <td>18.420760</td>\n",
        "      <td>93.802281</td>\n",
        "      <td>337166.53</td>\n",
        "      <td>337804.05</td>\n",
        "    </tr>\n",
        "    <tr>\n",
        "      <th>1</th>\n",
        "      <td>4.776510</td>\n",
        "      <td>21.082425</td>\n",
        "      <td>22351.86</td>\n",
        "      <td>21736.63</td>\n",
        "    </tr>\n",
        "    <tr>\n",
        "      <th>2</th>\n",
        "      <td>16.602401</td>\n",
        "      <td>93.612494</td>\n",
        "      <td>277764.46</td>\n",
        "      <td>306942.27</td>\n",
        "    </tr>\n",
        "    <tr>\n",
        "      <th>3</th>\n",
        "      <td>4.296111</td>\n",
        "      <td>16.824704</td>\n",
        "      <td>16805.11</td>\n",
        "      <td>9307.75</td>\n",
        "    </tr>\n",
        "    <tr>\n",
        "      <th>4</th>\n",
        "      <td>8.156023</td>\n",
        "      <td>35.011457</td>\n",
        "      <td>54411.42</td>\n",
        "      <td>58939.90</td>\n",
        "    </tr>\n",
        "  </tbody>\n",
        "</table>\n",
        "</div>"
       ],
       "metadata": {},
       "output_type": "pyout",
       "prompt_number": 16,
       "text": [
        "   volume_sold  2015_margin  2015_q1_sales  2016_q1_sales\n",
        "0    18.420760    93.802281      337166.53      337804.05\n",
        "1     4.776510    21.082425       22351.86       21736.63\n",
        "2    16.602401    93.612494      277764.46      306942.27\n",
        "3     4.296111    16.824704       16805.11        9307.75\n",
        "4     8.156023    35.011457       54411.42       58939.90"
       ]
      }
     ],
     "prompt_number": 16
    },
    {
     "cell_type": "code",
     "collapsed": false,
     "input": [
      "sales_data.tail()"
     ],
     "language": "python",
     "metadata": {},
     "outputs": [
      {
       "html": [
        "<div style=\"max-width:1500px;overflow:auto;\">\n",
        "<table border=\"1\" class=\"dataframe\">\n",
        "  <thead>\n",
        "    <tr style=\"text-align: right;\">\n",
        "      <th></th>\n",
        "      <th>volume_sold</th>\n",
        "      <th>2015_margin</th>\n",
        "      <th>2015_q1_sales</th>\n",
        "      <th>2016_q1_sales</th>\n",
        "    </tr>\n",
        "  </thead>\n",
        "  <tbody>\n",
        "    <tr>\n",
        "      <th>195</th>\n",
        "      <td>51.675537</td>\n",
        "      <td>233.533189</td>\n",
        "      <td>434110.57</td>\n",
        "      <td>372240.72</td>\n",
        "    </tr>\n",
        "    <tr>\n",
        "      <th>196</th>\n",
        "      <td>2.794631</td>\n",
        "      <td>11.996118</td>\n",
        "      <td>73789.38</td>\n",
        "      <td>148021.90</td>\n",
        "    </tr>\n",
        "    <tr>\n",
        "      <th>197</th>\n",
        "      <td>7.611698</td>\n",
        "      <td>38.809973</td>\n",
        "      <td>88006.84</td>\n",
        "      <td>31184.18</td>\n",
        "    </tr>\n",
        "    <tr>\n",
        "      <th>198</th>\n",
        "      <td>15.697651</td>\n",
        "      <td>105.035207</td>\n",
        "      <td>117958.96</td>\n",
        "      <td>33324.36</td>\n",
        "    </tr>\n",
        "    <tr>\n",
        "      <th>199</th>\n",
        "      <td>50.275893</td>\n",
        "      <td>225.055138</td>\n",
        "      <td>407738.79</td>\n",
        "      <td>32079.13</td>\n",
        "    </tr>\n",
        "  </tbody>\n",
        "</table>\n",
        "</div>"
       ],
       "metadata": {},
       "output_type": "pyout",
       "prompt_number": 17,
       "text": [
        "     volume_sold  2015_margin  2015_q1_sales  2016_q1_sales\n",
        "195    51.675537   233.533189      434110.57      372240.72\n",
        "196     2.794631    11.996118       73789.38      148021.90\n",
        "197     7.611698    38.809973       88006.84       31184.18\n",
        "198    15.697651   105.035207      117958.96       33324.36\n",
        "199    50.275893   225.055138      407738.79       32079.13"
       ]
      }
     ],
     "prompt_number": 17
    },
    {
     "cell_type": "code",
     "collapsed": false,
     "input": [
      "sales_data.sample(10)"
     ],
     "language": "python",
     "metadata": {},
     "outputs": [
      {
       "html": [
        "<div style=\"max-width:1500px;overflow:auto;\">\n",
        "<table border=\"1\" class=\"dataframe\">\n",
        "  <thead>\n",
        "    <tr style=\"text-align: right;\">\n",
        "      <th></th>\n",
        "      <th>volume_sold</th>\n",
        "      <th>2015_margin</th>\n",
        "      <th>2015_q1_sales</th>\n",
        "      <th>2016_q1_sales</th>\n",
        "    </tr>\n",
        "  </thead>\n",
        "  <tbody>\n",
        "    <tr>\n",
        "      <th>127</th>\n",
        "      <td>7.560549</td>\n",
        "      <td>30.903842</td>\n",
        "      <td>62335.59</td>\n",
        "      <td>289199.43</td>\n",
        "    </tr>\n",
        "    <tr>\n",
        "      <th>173</th>\n",
        "      <td>8.500445</td>\n",
        "      <td>27.507729</td>\n",
        "      <td>21711.71</td>\n",
        "      <td>14626.29</td>\n",
        "    </tr>\n",
        "    <tr>\n",
        "      <th>33</th>\n",
        "      <td>10.331430</td>\n",
        "      <td>48.133368</td>\n",
        "      <td>321983.24</td>\n",
        "      <td>149791.31</td>\n",
        "    </tr>\n",
        "    <tr>\n",
        "      <th>172</th>\n",
        "      <td>6.537069</td>\n",
        "      <td>22.888219</td>\n",
        "      <td>16617.85</td>\n",
        "      <td>18650.96</td>\n",
        "    </tr>\n",
        "    <tr>\n",
        "      <th>68</th>\n",
        "      <td>9.003562</td>\n",
        "      <td>46.756554</td>\n",
        "      <td>312502.67</td>\n",
        "      <td>166847.54</td>\n",
        "    </tr>\n",
        "    <tr>\n",
        "      <th>130</th>\n",
        "      <td>13.799977</td>\n",
        "      <td>68.183623</td>\n",
        "      <td>280506.28</td>\n",
        "      <td>128500.31</td>\n",
        "    </tr>\n",
        "    <tr>\n",
        "      <th>72</th>\n",
        "      <td>7.777320</td>\n",
        "      <td>36.715759</td>\n",
        "      <td>68258.49</td>\n",
        "      <td>96059.65</td>\n",
        "    </tr>\n",
        "    <tr>\n",
        "      <th>69</th>\n",
        "      <td>14.439435</td>\n",
        "      <td>57.288624</td>\n",
        "      <td>85217.68</td>\n",
        "      <td>73117.79</td>\n",
        "    </tr>\n",
        "    <tr>\n",
        "      <th>86</th>\n",
        "      <td>3.991858</td>\n",
        "      <td>20.051366</td>\n",
        "      <td>146424.29</td>\n",
        "      <td>133868.58</td>\n",
        "    </tr>\n",
        "    <tr>\n",
        "      <th>113</th>\n",
        "      <td>9.313785</td>\n",
        "      <td>43.808956</td>\n",
        "      <td>203099.80</td>\n",
        "      <td>200599.95</td>\n",
        "    </tr>\n",
        "  </tbody>\n",
        "</table>\n",
        "</div>"
       ],
       "metadata": {},
       "output_type": "pyout",
       "prompt_number": 18,
       "text": [
        "     volume_sold  2015_margin  2015_q1_sales  2016_q1_sales\n",
        "127     7.560549    30.903842       62335.59      289199.43\n",
        "173     8.500445    27.507729       21711.71       14626.29\n",
        "33     10.331430    48.133368      321983.24      149791.31\n",
        "172     6.537069    22.888219       16617.85       18650.96\n",
        "68      9.003562    46.756554      312502.67      166847.54\n",
        "130    13.799977    68.183623      280506.28      128500.31\n",
        "72      7.777320    36.715759       68258.49       96059.65\n",
        "69     14.439435    57.288624       85217.68       73117.79\n",
        "86      3.991858    20.051366      146424.29      133868.58\n",
        "113     9.313785    43.808956      203099.80      200599.95"
       ]
      }
     ],
     "prompt_number": 18
    },
    {
     "cell_type": "markdown",
     "metadata": {},
     "source": [
      "A column can be selected by .name\n",
      "\n",
      "And it, too, has a head(), and tail(), and can do statistical\n",
      "operations."
     ]
    },
    {
     "cell_type": "code",
     "collapsed": false,
     "input": [
      "sales_data.volume_sold.head()"
     ],
     "language": "python",
     "metadata": {},
     "outputs": [
      {
       "metadata": {},
       "output_type": "pyout",
       "prompt_number": 20,
       "text": [
        "0    18.420760\n",
        "1     4.776510\n",
        "2    16.602401\n",
        "3     4.296111\n",
        "4     8.156023\n",
        "Name: volume_sold, dtype: float64"
       ]
      }
     ],
     "prompt_number": 20
    },
    {
     "cell_type": "code",
     "collapsed": false,
     "input": [
      "sales_data.volume_sold.tail()"
     ],
     "language": "python",
     "metadata": {},
     "outputs": [
      {
       "metadata": {},
       "output_type": "pyout",
       "prompt_number": 21,
       "text": [
        "195    51.675537\n",
        "196     2.794631\n",
        "197     7.611698\n",
        "198    15.697651\n",
        "199    50.275893\n",
        "Name: volume_sold, dtype: float64"
       ]
      }
     ],
     "prompt_number": 21
    },
    {
     "cell_type": "code",
     "collapsed": false,
     "input": [
      "sales_data.volume_sold.mean()"
     ],
     "language": "python",
     "metadata": {},
     "outputs": [
      {
       "metadata": {},
       "output_type": "pyout",
       "prompt_number": 22,
       "text": [
        "10.0186840789888"
       ]
      }
     ],
     "prompt_number": 22
    },
    {
     "cell_type": "markdown",
     "metadata": {},
     "source": [
      "Pandas creates an attribute for a dataframe that lists the columns"
     ]
    },
    {
     "cell_type": "code",
     "collapsed": false,
     "input": [
      "sales_data.columns"
     ],
     "language": "python",
     "metadata": {},
     "outputs": [
      {
       "metadata": {},
       "output_type": "pyout",
       "prompt_number": 23,
       "text": [
        "Index([u'volume_sold', u'2015_margin', u'2015_q1_sales', u'2016_q1_sales'], dtype='object')"
       ]
      }
     ],
     "prompt_number": 23
    },
    {
     "cell_type": "markdown",
     "metadata": {},
     "source": [
      "You can also select columns with a _ _ getitem_ _ style access."
     ]
    },
    {
     "cell_type": "code",
     "collapsed": false,
     "input": [
      "sales_data['volume_sold']"
     ],
     "language": "python",
     "metadata": {},
     "outputs": [
      {
       "metadata": {},
       "output_type": "pyout",
       "prompt_number": 24,
       "text": [
        "0      18.420760\n",
        "1       4.776510\n",
        "2      16.602401\n",
        "3       4.296111\n",
        "4       8.156023\n",
        "5       5.005122\n",
        "6      14.606750\n",
        "7       4.456466\n",
        "8       5.047530\n",
        "9       5.388070\n",
        "10      9.347349\n",
        "11     10.930398\n",
        "12      6.270209\n",
        "13     12.395919\n",
        "14      4.557712\n",
        "15      4.200122\n",
        "16     10.252870\n",
        "17     12.076785\n",
        "18      3.725095\n",
        "19      3.210727\n",
        "20      6.290971\n",
        "21      7.434821\n",
        "22      4.376225\n",
        "23     12.988913\n",
        "24     11.697456\n",
        "25      5.965175\n",
        "26      3.945223\n",
        "27      7.369585\n",
        "28      7.343509\n",
        "29     12.350027\n",
        "         ...    \n",
        "170     8.443932\n",
        "171     5.151964\n",
        "172     6.537069\n",
        "173     8.500445\n",
        "174     3.931543\n",
        "175     6.163689\n",
        "176     4.904447\n",
        "177     7.402413\n",
        "178    47.503269\n",
        "179    55.739180\n",
        "180    11.840780\n",
        "181     7.002294\n",
        "182     8.753142\n",
        "183     3.147741\n",
        "184     7.196779\n",
        "185    76.203692\n",
        "186    10.804337\n",
        "187    10.705327\n",
        "188    51.800686\n",
        "189     5.882779\n",
        "190     6.686406\n",
        "191     5.833355\n",
        "192    45.556096\n",
        "193     5.172606\n",
        "194    10.118018\n",
        "195    51.675537\n",
        "196     2.794631\n",
        "197     7.611698\n",
        "198    15.697651\n",
        "199    50.275893\n",
        "Name: volume_sold, dtype: float64"
       ]
      }
     ],
     "prompt_number": 24
    },
    {
     "cell_type": "code",
     "collapsed": false,
     "input": [
      "sales_data.columns"
     ],
     "language": "python",
     "metadata": {},
     "outputs": [
      {
       "metadata": {},
       "output_type": "pyout",
       "prompt_number": 25,
       "text": [
        "Index([u'volume_sold', u'2015_margin', u'2015_q1_sales', u'2016_q1_sales'], dtype='object')"
       ]
      }
     ],
     "prompt_number": 25
    },
    {
     "cell_type": "markdown",
     "metadata": {},
     "source": [
      "We can create dataframe selections."
     ]
    },
    {
     "cell_type": "code",
     "collapsed": false,
     "input": [
      "sales_data[     ['2015_margin','2015_q1_sales']   ]"
     ],
     "language": "python",
     "metadata": {},
     "outputs": [
      {
       "html": [
        "<div style=\"max-width:1500px;overflow:auto;\">\n",
        "<table border=\"1\" class=\"dataframe\">\n",
        "  <thead>\n",
        "    <tr style=\"text-align: right;\">\n",
        "      <th></th>\n",
        "      <th>2015_margin</th>\n",
        "      <th>2015_q1_sales</th>\n",
        "    </tr>\n",
        "  </thead>\n",
        "  <tbody>\n",
        "    <tr>\n",
        "      <th>0</th>\n",
        "      <td>93.802281</td>\n",
        "      <td>337166.53</td>\n",
        "    </tr>\n",
        "    <tr>\n",
        "      <th>1</th>\n",
        "      <td>21.082425</td>\n",
        "      <td>22351.86</td>\n",
        "    </tr>\n",
        "    <tr>\n",
        "      <th>2</th>\n",
        "      <td>93.612494</td>\n",
        "      <td>277764.46</td>\n",
        "    </tr>\n",
        "    <tr>\n",
        "      <th>3</th>\n",
        "      <td>16.824704</td>\n",
        "      <td>16805.11</td>\n",
        "    </tr>\n",
        "    <tr>\n",
        "      <th>4</th>\n",
        "      <td>35.011457</td>\n",
        "      <td>54411.42</td>\n",
        "    </tr>\n",
        "    <tr>\n",
        "      <th>5</th>\n",
        "      <td>31.877437</td>\n",
        "      <td>255939.81</td>\n",
        "    </tr>\n",
        "    <tr>\n",
        "      <th>6</th>\n",
        "      <td>76.518973</td>\n",
        "      <td>319020.69</td>\n",
        "    </tr>\n",
        "    <tr>\n",
        "      <th>7</th>\n",
        "      <td>19.337345</td>\n",
        "      <td>45340.33</td>\n",
        "    </tr>\n",
        "    <tr>\n",
        "      <th>8</th>\n",
        "      <td>26.142470</td>\n",
        "      <td>57849.23</td>\n",
        "    </tr>\n",
        "    <tr>\n",
        "      <th>9</th>\n",
        "      <td>22.427024</td>\n",
        "      <td>51031.04</td>\n",
        "    </tr>\n",
        "    <tr>\n",
        "      <th>10</th>\n",
        "      <td>41.892133</td>\n",
        "      <td>68657.91</td>\n",
        "    </tr>\n",
        "    <tr>\n",
        "      <th>11</th>\n",
        "      <td>66.403049</td>\n",
        "      <td>4151.93</td>\n",
        "    </tr>\n",
        "    <tr>\n",
        "      <th>12</th>\n",
        "      <td>47.869324</td>\n",
        "      <td>121837.56</td>\n",
        "    </tr>\n",
        "    <tr>\n",
        "      <th>13</th>\n",
        "      <td>86.760150</td>\n",
        "      <td>146725.31</td>\n",
        "    </tr>\n",
        "    <tr>\n",
        "      <th>14</th>\n",
        "      <td>22.948176</td>\n",
        "      <td>119287.76</td>\n",
        "    </tr>\n",
        "    <tr>\n",
        "      <th>15</th>\n",
        "      <td>18.706055</td>\n",
        "      <td>20335.03</td>\n",
        "    </tr>\n",
        "    <tr>\n",
        "      <th>16</th>\n",
        "      <td>44.041177</td>\n",
        "      <td>110552.94</td>\n",
        "    </tr>\n",
        "    <tr>\n",
        "      <th>17</th>\n",
        "      <td>62.199004</td>\n",
        "      <td>204237.78</td>\n",
        "    </tr>\n",
        "    <tr>\n",
        "      <th>18</th>\n",
        "      <td>14.251810</td>\n",
        "      <td>16939.15</td>\n",
        "    </tr>\n",
        "    <tr>\n",
        "      <th>19</th>\n",
        "      <td>16.043269</td>\n",
        "      <td>55498.12</td>\n",
        "    </tr>\n",
        "    <tr>\n",
        "      <th>20</th>\n",
        "      <td>25.191171</td>\n",
        "      <td>15983.98</td>\n",
        "    </tr>\n",
        "    <tr>\n",
        "      <th>21</th>\n",
        "      <td>31.753066</td>\n",
        "      <td>71758.66</td>\n",
        "    </tr>\n",
        "    <tr>\n",
        "      <th>22</th>\n",
        "      <td>23.161451</td>\n",
        "      <td>62988.17</td>\n",
        "    </tr>\n",
        "    <tr>\n",
        "      <th>23</th>\n",
        "      <td>48.820741</td>\n",
        "      <td>29637.75</td>\n",
        "    </tr>\n",
        "    <tr>\n",
        "      <th>24</th>\n",
        "      <td>73.231504</td>\n",
        "      <td>48759.71</td>\n",
        "    </tr>\n",
        "    <tr>\n",
        "      <th>25</th>\n",
        "      <td>23.450334</td>\n",
        "      <td>89736.70</td>\n",
        "    </tr>\n",
        "    <tr>\n",
        "      <th>26</th>\n",
        "      <td>14.144793</td>\n",
        "      <td>5577.61</td>\n",
        "    </tr>\n",
        "    <tr>\n",
        "      <th>27</th>\n",
        "      <td>36.408528</td>\n",
        "      <td>310035.66</td>\n",
        "    </tr>\n",
        "    <tr>\n",
        "      <th>28</th>\n",
        "      <td>36.171862</td>\n",
        "      <td>310718.21</td>\n",
        "    </tr>\n",
        "    <tr>\n",
        "      <th>29</th>\n",
        "      <td>59.893478</td>\n",
        "      <td>258284.84</td>\n",
        "    </tr>\n",
        "    <tr>\n",
        "      <th>...</th>\n",
        "      <td>...</td>\n",
        "      <td>...</td>\n",
        "    </tr>\n",
        "    <tr>\n",
        "      <th>170</th>\n",
        "      <td>37.407112</td>\n",
        "      <td>17232.45</td>\n",
        "    </tr>\n",
        "    <tr>\n",
        "      <th>171</th>\n",
        "      <td>20.698042</td>\n",
        "      <td>21340.78</td>\n",
        "    </tr>\n",
        "    <tr>\n",
        "      <th>172</th>\n",
        "      <td>22.888219</td>\n",
        "      <td>16617.85</td>\n",
        "    </tr>\n",
        "    <tr>\n",
        "      <th>173</th>\n",
        "      <td>27.507729</td>\n",
        "      <td>21711.71</td>\n",
        "    </tr>\n",
        "    <tr>\n",
        "      <th>174</th>\n",
        "      <td>21.811659</td>\n",
        "      <td>28128.95</td>\n",
        "    </tr>\n",
        "    <tr>\n",
        "      <th>175</th>\n",
        "      <td>25.428521</td>\n",
        "      <td>21803.20</td>\n",
        "    </tr>\n",
        "    <tr>\n",
        "      <th>176</th>\n",
        "      <td>19.568317</td>\n",
        "      <td>12517.29</td>\n",
        "    </tr>\n",
        "    <tr>\n",
        "      <th>177</th>\n",
        "      <td>26.935335</td>\n",
        "      <td>53988.92</td>\n",
        "    </tr>\n",
        "    <tr>\n",
        "      <th>178</th>\n",
        "      <td>235.730678</td>\n",
        "      <td>555707.40</td>\n",
        "    </tr>\n",
        "    <tr>\n",
        "      <th>179</th>\n",
        "      <td>268.869600</td>\n",
        "      <td>1082136.01</td>\n",
        "    </tr>\n",
        "    <tr>\n",
        "      <th>180</th>\n",
        "      <td>56.433388</td>\n",
        "      <td>192089.46</td>\n",
        "    </tr>\n",
        "    <tr>\n",
        "      <th>181</th>\n",
        "      <td>26.440917</td>\n",
        "      <td>5574.99</td>\n",
        "    </tr>\n",
        "    <tr>\n",
        "      <th>182</th>\n",
        "      <td>45.293847</td>\n",
        "      <td>80241.27</td>\n",
        "    </tr>\n",
        "    <tr>\n",
        "      <th>183</th>\n",
        "      <td>15.594552</td>\n",
        "      <td>27043.54</td>\n",
        "    </tr>\n",
        "    <tr>\n",
        "      <th>184</th>\n",
        "      <td>27.288652</td>\n",
        "      <td>61977.54</td>\n",
        "    </tr>\n",
        "    <tr>\n",
        "      <th>185</th>\n",
        "      <td>367.225653</td>\n",
        "      <td>977772.62</td>\n",
        "    </tr>\n",
        "    <tr>\n",
        "      <th>186</th>\n",
        "      <td>42.031199</td>\n",
        "      <td>41905.18</td>\n",
        "    </tr>\n",
        "    <tr>\n",
        "      <th>187</th>\n",
        "      <td>45.891477</td>\n",
        "      <td>87839.45</td>\n",
        "    </tr>\n",
        "    <tr>\n",
        "      <th>188</th>\n",
        "      <td>255.153235</td>\n",
        "      <td>445058.32</td>\n",
        "    </tr>\n",
        "    <tr>\n",
        "      <th>189</th>\n",
        "      <td>27.512271</td>\n",
        "      <td>127495.18</td>\n",
        "    </tr>\n",
        "    <tr>\n",
        "      <th>190</th>\n",
        "      <td>26.103097</td>\n",
        "      <td>23874.67</td>\n",
        "    </tr>\n",
        "    <tr>\n",
        "      <th>191</th>\n",
        "      <td>23.741603</td>\n",
        "      <td>21535.87</td>\n",
        "    </tr>\n",
        "    <tr>\n",
        "      <th>192</th>\n",
        "      <td>218.008350</td>\n",
        "      <td>276096.18</td>\n",
        "    </tr>\n",
        "    <tr>\n",
        "      <th>193</th>\n",
        "      <td>21.548782</td>\n",
        "      <td>8506.79</td>\n",
        "    </tr>\n",
        "    <tr>\n",
        "      <th>194</th>\n",
        "      <td>46.700709</td>\n",
        "      <td>49163.01</td>\n",
        "    </tr>\n",
        "    <tr>\n",
        "      <th>195</th>\n",
        "      <td>233.533189</td>\n",
        "      <td>434110.57</td>\n",
        "    </tr>\n",
        "    <tr>\n",
        "      <th>196</th>\n",
        "      <td>11.996118</td>\n",
        "      <td>73789.38</td>\n",
        "    </tr>\n",
        "    <tr>\n",
        "      <th>197</th>\n",
        "      <td>38.809973</td>\n",
        "      <td>88006.84</td>\n",
        "    </tr>\n",
        "    <tr>\n",
        "      <th>198</th>\n",
        "      <td>105.035207</td>\n",
        "      <td>117958.96</td>\n",
        "    </tr>\n",
        "    <tr>\n",
        "      <th>199</th>\n",
        "      <td>225.055138</td>\n",
        "      <td>407738.79</td>\n",
        "    </tr>\n",
        "  </tbody>\n",
        "</table>\n",
        "<p>200 rows \u00d7 2 columns</p>\n",
        "</div>"
       ],
       "metadata": {},
       "output_type": "pyout",
       "prompt_number": 30,
       "text": [
        "     2015_margin  2015_q1_sales\n",
        "0      93.802281      337166.53\n",
        "1      21.082425       22351.86\n",
        "2      93.612494      277764.46\n",
        "3      16.824704       16805.11\n",
        "4      35.011457       54411.42\n",
        "5      31.877437      255939.81\n",
        "6      76.518973      319020.69\n",
        "7      19.337345       45340.33\n",
        "8      26.142470       57849.23\n",
        "9      22.427024       51031.04\n",
        "10     41.892133       68657.91\n",
        "11     66.403049        4151.93\n",
        "12     47.869324      121837.56\n",
        "13     86.760150      146725.31\n",
        "14     22.948176      119287.76\n",
        "15     18.706055       20335.03\n",
        "16     44.041177      110552.94\n",
        "17     62.199004      204237.78\n",
        "18     14.251810       16939.15\n",
        "19     16.043269       55498.12\n",
        "20     25.191171       15983.98\n",
        "21     31.753066       71758.66\n",
        "22     23.161451       62988.17\n",
        "23     48.820741       29637.75\n",
        "24     73.231504       48759.71\n",
        "25     23.450334       89736.70\n",
        "26     14.144793        5577.61\n",
        "27     36.408528      310035.66\n",
        "28     36.171862      310718.21\n",
        "29     59.893478      258284.84\n",
        "..           ...            ...\n",
        "170    37.407112       17232.45\n",
        "171    20.698042       21340.78\n",
        "172    22.888219       16617.85\n",
        "173    27.507729       21711.71\n",
        "174    21.811659       28128.95\n",
        "175    25.428521       21803.20\n",
        "176    19.568317       12517.29\n",
        "177    26.935335       53988.92\n",
        "178   235.730678      555707.40\n",
        "179   268.869600     1082136.01\n",
        "180    56.433388      192089.46\n",
        "181    26.440917        5574.99\n",
        "182    45.293847       80241.27\n",
        "183    15.594552       27043.54\n",
        "184    27.288652       61977.54\n",
        "185   367.225653      977772.62\n",
        "186    42.031199       41905.18\n",
        "187    45.891477       87839.45\n",
        "188   255.153235      445058.32\n",
        "189    27.512271      127495.18\n",
        "190    26.103097       23874.67\n",
        "191    23.741603       21535.87\n",
        "192   218.008350      276096.18\n",
        "193    21.548782        8506.79\n",
        "194    46.700709       49163.01\n",
        "195   233.533189      434110.57\n",
        "196    11.996118       73789.38\n",
        "197    38.809973       88006.84\n",
        "198   105.035207      117958.96\n",
        "199   225.055138      407738.79\n",
        "\n",
        "[200 rows x 2 columns]"
       ]
      }
     ],
     "prompt_number": 30
    },
    {
     "cell_type": "code",
     "collapsed": false,
     "input": [
      "sales_data.columns"
     ],
     "language": "python",
     "metadata": {},
     "outputs": [
      {
       "metadata": {},
       "output_type": "pyout",
       "prompt_number": 37,
       "text": [
        "Index([u'volume_sold', u'2015_margin', u'2015_q1_sales', u'2016_q1_sales'], dtype='object')"
       ]
      }
     ],
     "prompt_number": 37
    },
    {
     "cell_type": "markdown",
     "metadata": {},
     "source": [
      "#Graphing data from a CSV file"
     ]
    },
    {
     "cell_type": "code",
     "collapsed": false,
     "input": [
      "%matplotlib inline"
     ],
     "language": "python",
     "metadata": {},
     "outputs": [],
     "prompt_number": 38
    },
    {
     "cell_type": "code",
     "collapsed": false,
     "input": [
      "import matplotlib.pyplot\n",
      "matplotlib.pyplot.plot(sales_data['2015_q1_sales'])"
     ],
     "language": "python",
     "metadata": {},
     "outputs": [
      {
       "metadata": {},
       "output_type": "pyout",
       "prompt_number": 39,
       "text": [
        "[<matplotlib.lines.Line2D at 0x7fec22d28c50>]"
       ]
      },
      {
       "metadata": {},
       "output_type": "display_data",
       "png": "[encoded data removed]",
       "text": [
        "<matplotlib.figure.Figure at 0x7fec2304f4d0>"
       ]
      }
     ],
     "prompt_number": 39
    },
    {
     "cell_type": "code",
     "collapsed": false,
     "input": [
      "matplotlib.pyplot.scatter(sales_data['2015_q1_sales'], \n",
      "                          sales_data['2016_q1_sales'])"
     ],
     "language": "python",
     "metadata": {},
     "outputs": [
      {
       "metadata": {},
       "output_type": "pyout",
       "prompt_number": 40,
       "text": [
        "<matplotlib.collections.PathCollection at 0x7fec22c8f890>"
       ]
      },
      {
       "metadata": {},
       "output_type": "display_data",
       "png": "[encoded data removed]",
       "text": [
        "<matplotlib.figure.Figure at 0x7fec22dd1ed0>"
       ]
      }
     ],
     "prompt_number": 40
    },
    {
     "cell_type": "code",
     "collapsed": false,
     "input": [
      "sales_data['2015_q1_sales'].plot.bar()"
     ],
     "language": "python",
     "metadata": {},
     "outputs": [
      {
       "metadata": {},
       "output_type": "pyout",
       "prompt_number": 43,
       "text": [
        "<matplotlib.axes._subplots.AxesSubplot at 0x7fec22cc5490>"
       ]
      },
      {
       "metadata": {},
       "output_type": "display_data",
       "png": "[encoded data removed]",
       "text": [
        "<matplotlib.figure.Figure at 0x7fec253cd8d0>"
       ]
      }
     ],
     "prompt_number": 43
    },
    {
     "cell_type": "markdown",
     "metadata": {},
     "source": [
      "We can add columns using array operations"
     ]
    },
    {
     "cell_type": "code",
     "collapsed": false,
     "input": [
      "sales_data['yearly_difference']= sales_data['2016_q1_sales'] - sales_data['2015_q1_sales']"
     ],
     "language": "python",
     "metadata": {},
     "outputs": [],
     "prompt_number": 45
    },
    {
     "cell_type": "code",
     "collapsed": false,
     "input": [
      "sales_data"
     ],
     "language": "python",
     "metadata": {},
     "outputs": [
      {
       "html": [
        "<div style=\"max-width:1500px;overflow:auto;\">\n",
        "<table border=\"1\" class=\"dataframe\">\n",
        "  <thead>\n",
        "    <tr style=\"text-align: right;\">\n",
        "      <th></th>\n",
        "      <th>volume_sold</th>\n",
        "      <th>2015_margin</th>\n",
        "      <th>2015_q1_sales</th>\n",
        "      <th>2016_q1_sales</th>\n",
        "      <th>yearly_difference</th>\n",
        "    </tr>\n",
        "  </thead>\n",
        "  <tbody>\n",
        "    <tr>\n",
        "      <th>0</th>\n",
        "      <td>18.420760</td>\n",
        "      <td>93.802281</td>\n",
        "      <td>337166.53</td>\n",
        "      <td>337804.05</td>\n",
        "      <td>637.52</td>\n",
        "    </tr>\n",
        "    <tr>\n",
        "      <th>1</th>\n",
        "      <td>4.776510</td>\n",
        "      <td>21.082425</td>\n",
        "      <td>22351.86</td>\n",
        "      <td>21736.63</td>\n",
        "      <td>-615.23</td>\n",
        "    </tr>\n",
        "    <tr>\n",
        "      <th>2</th>\n",
        "      <td>16.602401</td>\n",
        "      <td>93.612494</td>\n",
        "      <td>277764.46</td>\n",
        "      <td>306942.27</td>\n",
        "      <td>29177.81</td>\n",
        "    </tr>\n",
        "    <tr>\n",
        "      <th>3</th>\n",
        "      <td>4.296111</td>\n",
        "      <td>16.824704</td>\n",
        "      <td>16805.11</td>\n",
        "      <td>9307.75</td>\n",
        "      <td>-7497.36</td>\n",
        "    </tr>\n",
        "    <tr>\n",
        "      <th>4</th>\n",
        "      <td>8.156023</td>\n",
        "      <td>35.011457</td>\n",
        "      <td>54411.42</td>\n",
        "      <td>58939.90</td>\n",
        "      <td>4528.48</td>\n",
        "    </tr>\n",
        "    <tr>\n",
        "      <th>5</th>\n",
        "      <td>5.005122</td>\n",
        "      <td>31.877437</td>\n",
        "      <td>255939.81</td>\n",
        "      <td>332979.03</td>\n",
        "      <td>77039.22</td>\n",
        "    </tr>\n",
        "    <tr>\n",
        "      <th>6</th>\n",
        "      <td>14.606750</td>\n",
        "      <td>76.518973</td>\n",
        "      <td>319020.69</td>\n",
        "      <td>302592.88</td>\n",
        "      <td>-16427.81</td>\n",
        "    </tr>\n",
        "    <tr>\n",
        "      <th>7</th>\n",
        "      <td>4.456466</td>\n",
        "      <td>19.337345</td>\n",
        "      <td>45340.33</td>\n",
        "      <td>55315.23</td>\n",
        "      <td>9974.90</td>\n",
        "    </tr>\n",
        "    <tr>\n",
        "      <th>8</th>\n",
        "      <td>5.047530</td>\n",
        "      <td>26.142470</td>\n",
        "      <td>57849.23</td>\n",
        "      <td>42398.57</td>\n",
        "      <td>-15450.66</td>\n",
        "    </tr>\n",
        "    <tr>\n",
        "      <th>9</th>\n",
        "      <td>5.388070</td>\n",
        "      <td>22.427024</td>\n",
        "      <td>51031.04</td>\n",
        "      <td>56241.57</td>\n",
        "      <td>5210.53</td>\n",
        "    </tr>\n",
        "    <tr>\n",
        "      <th>10</th>\n",
        "      <td>9.347349</td>\n",
        "      <td>41.892133</td>\n",
        "      <td>68657.91</td>\n",
        "      <td>3536.14</td>\n",
        "      <td>-65121.77</td>\n",
        "    </tr>\n",
        "    <tr>\n",
        "      <th>11</th>\n",
        "      <td>10.930398</td>\n",
        "      <td>66.403049</td>\n",
        "      <td>4151.93</td>\n",
        "      <td>137416.93</td>\n",
        "      <td>133265.00</td>\n",
        "    </tr>\n",
        "    <tr>\n",
        "      <th>12</th>\n",
        "      <td>6.270209</td>\n",
        "      <td>47.869324</td>\n",
        "      <td>121837.56</td>\n",
        "      <td>158476.55</td>\n",
        "      <td>36638.99</td>\n",
        "    </tr>\n",
        "    <tr>\n",
        "      <th>13</th>\n",
        "      <td>12.395919</td>\n",
        "      <td>86.760150</td>\n",
        "      <td>146725.31</td>\n",
        "      <td>125731.51</td>\n",
        "      <td>-20993.80</td>\n",
        "    </tr>\n",
        "    <tr>\n",
        "      <th>14</th>\n",
        "      <td>4.557712</td>\n",
        "      <td>22.948176</td>\n",
        "      <td>119287.76</td>\n",
        "      <td>21834.49</td>\n",
        "      <td>-97453.27</td>\n",
        "    </tr>\n",
        "    <tr>\n",
        "      <th>15</th>\n",
        "      <td>4.200122</td>\n",
        "      <td>18.706055</td>\n",
        "      <td>20335.03</td>\n",
        "      <td>39609.55</td>\n",
        "      <td>19274.52</td>\n",
        "    </tr>\n",
        "    <tr>\n",
        "      <th>16</th>\n",
        "      <td>10.252870</td>\n",
        "      <td>44.041177</td>\n",
        "      <td>110552.94</td>\n",
        "      <td>204038.87</td>\n",
        "      <td>93485.93</td>\n",
        "    </tr>\n",
        "    <tr>\n",
        "      <th>17</th>\n",
        "      <td>12.076785</td>\n",
        "      <td>62.199004</td>\n",
        "      <td>204237.78</td>\n",
        "      <td>15689.80</td>\n",
        "      <td>-188547.98</td>\n",
        "    </tr>\n",
        "    <tr>\n",
        "      <th>18</th>\n",
        "      <td>3.725095</td>\n",
        "      <td>14.251810</td>\n",
        "      <td>16939.15</td>\n",
        "      <td>48545.69</td>\n",
        "      <td>31606.54</td>\n",
        "    </tr>\n",
        "    <tr>\n",
        "      <th>19</th>\n",
        "      <td>3.210727</td>\n",
        "      <td>16.043269</td>\n",
        "      <td>55498.12</td>\n",
        "      <td>16320.74</td>\n",
        "      <td>-39177.38</td>\n",
        "    </tr>\n",
        "    <tr>\n",
        "      <th>20</th>\n",
        "      <td>6.290971</td>\n",
        "      <td>25.191171</td>\n",
        "      <td>15983.98</td>\n",
        "      <td>53182.55</td>\n",
        "      <td>37198.57</td>\n",
        "    </tr>\n",
        "    <tr>\n",
        "      <th>21</th>\n",
        "      <td>7.434821</td>\n",
        "      <td>31.753066</td>\n",
        "      <td>71758.66</td>\n",
        "      <td>30402.43</td>\n",
        "      <td>-41356.23</td>\n",
        "    </tr>\n",
        "    <tr>\n",
        "      <th>22</th>\n",
        "      <td>4.376225</td>\n",
        "      <td>23.161451</td>\n",
        "      <td>62988.17</td>\n",
        "      <td>47217.40</td>\n",
        "      <td>-15770.77</td>\n",
        "    </tr>\n",
        "    <tr>\n",
        "      <th>23</th>\n",
        "      <td>12.988913</td>\n",
        "      <td>48.820741</td>\n",
        "      <td>29637.75</td>\n",
        "      <td>6367.76</td>\n",
        "      <td>-23269.99</td>\n",
        "    </tr>\n",
        "    <tr>\n",
        "      <th>24</th>\n",
        "      <td>11.697456</td>\n",
        "      <td>73.231504</td>\n",
        "      <td>48759.71</td>\n",
        "      <td>329252.09</td>\n",
        "      <td>280492.38</td>\n",
        "    </tr>\n",
        "    <tr>\n",
        "      <th>25</th>\n",
        "      <td>5.965175</td>\n",
        "      <td>23.450334</td>\n",
        "      <td>89736.70</td>\n",
        "      <td>332976.05</td>\n",
        "      <td>243239.35</td>\n",
        "    </tr>\n",
        "    <tr>\n",
        "      <th>26</th>\n",
        "      <td>3.945223</td>\n",
        "      <td>14.144793</td>\n",
        "      <td>5577.61</td>\n",
        "      <td>234926.02</td>\n",
        "      <td>229348.41</td>\n",
        "    </tr>\n",
        "    <tr>\n",
        "      <th>27</th>\n",
        "      <td>7.369585</td>\n",
        "      <td>36.408528</td>\n",
        "      <td>310035.66</td>\n",
        "      <td>151934.45</td>\n",
        "      <td>-158101.21</td>\n",
        "    </tr>\n",
        "    <tr>\n",
        "      <th>28</th>\n",
        "      <td>7.343509</td>\n",
        "      <td>36.171862</td>\n",
        "      <td>310718.21</td>\n",
        "      <td>314068.92</td>\n",
        "      <td>3350.71</td>\n",
        "    </tr>\n",
        "    <tr>\n",
        "      <th>29</th>\n",
        "      <td>12.350027</td>\n",
        "      <td>59.893478</td>\n",
        "      <td>258284.84</td>\n",
        "      <td>61847.52</td>\n",
        "      <td>-196437.32</td>\n",
        "    </tr>\n",
        "    <tr>\n",
        "      <th>...</th>\n",
        "      <td>...</td>\n",
        "      <td>...</td>\n",
        "      <td>...</td>\n",
        "      <td>...</td>\n",
        "      <td>...</td>\n",
        "    </tr>\n",
        "    <tr>\n",
        "      <th>170</th>\n",
        "      <td>8.443932</td>\n",
        "      <td>37.407112</td>\n",
        "      <td>17232.45</td>\n",
        "      <td>19203.82</td>\n",
        "      <td>1971.37</td>\n",
        "    </tr>\n",
        "    <tr>\n",
        "      <th>171</th>\n",
        "      <td>5.151964</td>\n",
        "      <td>20.698042</td>\n",
        "      <td>21340.78</td>\n",
        "      <td>25302.92</td>\n",
        "      <td>3962.14</td>\n",
        "    </tr>\n",
        "    <tr>\n",
        "      <th>172</th>\n",
        "      <td>6.537069</td>\n",
        "      <td>22.888219</td>\n",
        "      <td>16617.85</td>\n",
        "      <td>18650.96</td>\n",
        "      <td>2033.11</td>\n",
        "    </tr>\n",
        "    <tr>\n",
        "      <th>173</th>\n",
        "      <td>8.500445</td>\n",
        "      <td>27.507729</td>\n",
        "      <td>21711.71</td>\n",
        "      <td>14626.29</td>\n",
        "      <td>-7085.42</td>\n",
        "    </tr>\n",
        "    <tr>\n",
        "      <th>174</th>\n",
        "      <td>3.931543</td>\n",
        "      <td>21.811659</td>\n",
        "      <td>28128.95</td>\n",
        "      <td>46323.73</td>\n",
        "      <td>18194.78</td>\n",
        "    </tr>\n",
        "    <tr>\n",
        "      <th>175</th>\n",
        "      <td>6.163689</td>\n",
        "      <td>25.428521</td>\n",
        "      <td>21803.20</td>\n",
        "      <td>535381.86</td>\n",
        "      <td>513578.66</td>\n",
        "    </tr>\n",
        "    <tr>\n",
        "      <th>176</th>\n",
        "      <td>4.904447</td>\n",
        "      <td>19.568317</td>\n",
        "      <td>12517.29</td>\n",
        "      <td>812011.78</td>\n",
        "      <td>799494.49</td>\n",
        "    </tr>\n",
        "    <tr>\n",
        "      <th>177</th>\n",
        "      <td>7.402413</td>\n",
        "      <td>26.935335</td>\n",
        "      <td>53988.92</td>\n",
        "      <td>206247.57</td>\n",
        "      <td>152258.65</td>\n",
        "    </tr>\n",
        "    <tr>\n",
        "      <th>178</th>\n",
        "      <td>47.503269</td>\n",
        "      <td>235.730678</td>\n",
        "      <td>555707.40</td>\n",
        "      <td>6402.78</td>\n",
        "      <td>-549304.62</td>\n",
        "    </tr>\n",
        "    <tr>\n",
        "      <th>179</th>\n",
        "      <td>55.739180</td>\n",
        "      <td>268.869600</td>\n",
        "      <td>1082136.01</td>\n",
        "      <td>100765.67</td>\n",
        "      <td>-981370.34</td>\n",
        "    </tr>\n",
        "    <tr>\n",
        "      <th>180</th>\n",
        "      <td>11.840780</td>\n",
        "      <td>56.433388</td>\n",
        "      <td>192089.46</td>\n",
        "      <td>20098.61</td>\n",
        "      <td>-171990.85</td>\n",
        "    </tr>\n",
        "    <tr>\n",
        "      <th>181</th>\n",
        "      <td>7.002294</td>\n",
        "      <td>26.440917</td>\n",
        "      <td>5574.99</td>\n",
        "      <td>68230.36</td>\n",
        "      <td>62655.37</td>\n",
        "    </tr>\n",
        "    <tr>\n",
        "      <th>182</th>\n",
        "      <td>8.753142</td>\n",
        "      <td>45.293847</td>\n",
        "      <td>80241.27</td>\n",
        "      <td>596063.00</td>\n",
        "      <td>515821.73</td>\n",
        "    </tr>\n",
        "    <tr>\n",
        "      <th>183</th>\n",
        "      <td>3.147741</td>\n",
        "      <td>15.594552</td>\n",
        "      <td>27043.54</td>\n",
        "      <td>87471.43</td>\n",
        "      <td>60427.89</td>\n",
        "    </tr>\n",
        "    <tr>\n",
        "      <th>184</th>\n",
        "      <td>7.196779</td>\n",
        "      <td>27.288652</td>\n",
        "      <td>61977.54</td>\n",
        "      <td>431990.70</td>\n",
        "      <td>370013.16</td>\n",
        "    </tr>\n",
        "    <tr>\n",
        "      <th>185</th>\n",
        "      <td>76.203692</td>\n",
        "      <td>367.225653</td>\n",
        "      <td>977772.62</td>\n",
        "      <td>136717.57</td>\n",
        "      <td>-841055.05</td>\n",
        "    </tr>\n",
        "    <tr>\n",
        "      <th>186</th>\n",
        "      <td>10.804337</td>\n",
        "      <td>42.031199</td>\n",
        "      <td>41905.18</td>\n",
        "      <td>30008.81</td>\n",
        "      <td>-11896.37</td>\n",
        "    </tr>\n",
        "    <tr>\n",
        "      <th>187</th>\n",
        "      <td>10.705327</td>\n",
        "      <td>45.891477</td>\n",
        "      <td>87839.45</td>\n",
        "      <td>19420.34</td>\n",
        "      <td>-68419.11</td>\n",
        "    </tr>\n",
        "    <tr>\n",
        "      <th>188</th>\n",
        "      <td>51.800686</td>\n",
        "      <td>255.153235</td>\n",
        "      <td>445058.32</td>\n",
        "      <td>274752.60</td>\n",
        "      <td>-170305.72</td>\n",
        "    </tr>\n",
        "    <tr>\n",
        "      <th>189</th>\n",
        "      <td>5.882779</td>\n",
        "      <td>27.512271</td>\n",
        "      <td>127495.18</td>\n",
        "      <td>10315.35</td>\n",
        "      <td>-117179.83</td>\n",
        "    </tr>\n",
        "    <tr>\n",
        "      <th>190</th>\n",
        "      <td>6.686406</td>\n",
        "      <td>26.103097</td>\n",
        "      <td>23874.67</td>\n",
        "      <td>45252.42</td>\n",
        "      <td>21377.75</td>\n",
        "    </tr>\n",
        "    <tr>\n",
        "      <th>191</th>\n",
        "      <td>5.833355</td>\n",
        "      <td>23.741603</td>\n",
        "      <td>21535.87</td>\n",
        "      <td>433832.28</td>\n",
        "      <td>412296.41</td>\n",
        "    </tr>\n",
        "    <tr>\n",
        "      <th>192</th>\n",
        "      <td>45.556096</td>\n",
        "      <td>218.008350</td>\n",
        "      <td>276096.18</td>\n",
        "      <td>74215.43</td>\n",
        "      <td>-201880.75</td>\n",
        "    </tr>\n",
        "    <tr>\n",
        "      <th>193</th>\n",
        "      <td>5.172606</td>\n",
        "      <td>21.548782</td>\n",
        "      <td>8506.79</td>\n",
        "      <td>78137.29</td>\n",
        "      <td>69630.50</td>\n",
        "    </tr>\n",
        "    <tr>\n",
        "      <th>194</th>\n",
        "      <td>10.118018</td>\n",
        "      <td>46.700709</td>\n",
        "      <td>49163.01</td>\n",
        "      <td>83915.72</td>\n",
        "      <td>34752.71</td>\n",
        "    </tr>\n",
        "    <tr>\n",
        "      <th>195</th>\n",
        "      <td>51.675537</td>\n",
        "      <td>233.533189</td>\n",
        "      <td>434110.57</td>\n",
        "      <td>372240.72</td>\n",
        "      <td>-61869.85</td>\n",
        "    </tr>\n",
        "    <tr>\n",
        "      <th>196</th>\n",
        "      <td>2.794631</td>\n",
        "      <td>11.996118</td>\n",
        "      <td>73789.38</td>\n",
        "      <td>148021.90</td>\n",
        "      <td>74232.52</td>\n",
        "    </tr>\n",
        "    <tr>\n",
        "      <th>197</th>\n",
        "      <td>7.611698</td>\n",
        "      <td>38.809973</td>\n",
        "      <td>88006.84</td>\n",
        "      <td>31184.18</td>\n",
        "      <td>-56822.66</td>\n",
        "    </tr>\n",
        "    <tr>\n",
        "      <th>198</th>\n",
        "      <td>15.697651</td>\n",
        "      <td>105.035207</td>\n",
        "      <td>117958.96</td>\n",
        "      <td>33324.36</td>\n",
        "      <td>-84634.60</td>\n",
        "    </tr>\n",
        "    <tr>\n",
        "      <th>199</th>\n",
        "      <td>50.275893</td>\n",
        "      <td>225.055138</td>\n",
        "      <td>407738.79</td>\n",
        "      <td>32079.13</td>\n",
        "      <td>-375659.66</td>\n",
        "    </tr>\n",
        "  </tbody>\n",
        "</table>\n",
        "<p>200 rows \u00d7 5 columns</p>\n",
        "</div>"
       ],
       "metadata": {},
       "output_type": "pyout",
       "prompt_number": 46,
       "text": [
        "     volume_sold  2015_margin  2015_q1_sales  2016_q1_sales  yearly_difference\n",
        "0      18.420760    93.802281      337166.53      337804.05             637.52\n",
        "1       4.776510    21.082425       22351.86       21736.63            -615.23\n",
        "2      16.602401    93.612494      277764.46      306942.27           29177.81\n",
        "3       4.296111    16.824704       16805.11        9307.75           -7497.36\n",
        "4       8.156023    35.011457       54411.42       58939.90            4528.48\n",
        "5       5.005122    31.877437      255939.81      332979.03           77039.22\n",
        "6      14.606750    76.518973      319020.69      302592.88          -16427.81\n",
        "7       4.456466    19.337345       45340.33       55315.23            9974.90\n",
        "8       5.047530    26.142470       57849.23       42398.57          -15450.66\n",
        "9       5.388070    22.427024       51031.04       56241.57            5210.53\n",
        "10      9.347349    41.892133       68657.91        3536.14          -65121.77\n",
        "11     10.930398    66.403049        4151.93      137416.93          133265.00\n",
        "12      6.270209    47.869324      121837.56      158476.55           36638.99\n",
        "13     12.395919    86.760150      146725.31      125731.51          -20993.80\n",
        "14      4.557712    22.948176      119287.76       21834.49          -97453.27\n",
        "15      4.200122    18.706055       20335.03       39609.55           19274.52\n",
        "16     10.252870    44.041177      110552.94      204038.87           93485.93\n",
        "17     12.076785    62.199004      204237.78       15689.80         -188547.98\n",
        "18      3.725095    14.251810       16939.15       48545.69           31606.54\n",
        "19      3.210727    16.043269       55498.12       16320.74          -39177.38\n",
        "20      6.290971    25.191171       15983.98       53182.55           37198.57\n",
        "21      7.434821    31.753066       71758.66       30402.43          -41356.23\n",
        "22      4.376225    23.161451       62988.17       47217.40          -15770.77\n",
        "23     12.988913    48.820741       29637.75        6367.76          -23269.99\n",
        "24     11.697456    73.231504       48759.71      329252.09          280492.38\n",
        "25      5.965175    23.450334       89736.70      332976.05          243239.35\n",
        "26      3.945223    14.144793        5577.61      234926.02          229348.41\n",
        "27      7.369585    36.408528      310035.66      151934.45         -158101.21\n",
        "28      7.343509    36.171862      310718.21      314068.92            3350.71\n",
        "29     12.350027    59.893478      258284.84       61847.52         -196437.32\n",
        "..           ...          ...            ...            ...                ...\n",
        "170     8.443932    37.407112       17232.45       19203.82            1971.37\n",
        "171     5.151964    20.698042       21340.78       25302.92            3962.14\n",
        "172     6.537069    22.888219       16617.85       18650.96            2033.11\n",
        "173     8.500445    27.507729       21711.71       14626.29           -7085.42\n",
        "174     3.931543    21.811659       28128.95       46323.73           18194.78\n",
        "175     6.163689    25.428521       21803.20      535381.86          513578.66\n",
        "176     4.904447    19.568317       12517.29      812011.78          799494.49\n",
        "177     7.402413    26.935335       53988.92      206247.57          152258.65\n",
        "178    47.503269   235.730678      555707.40        6402.78         -549304.62\n",
        "179    55.739180   268.869600     1082136.01      100765.67         -981370.34\n",
        "180    11.840780    56.433388      192089.46       20098.61         -171990.85\n",
        "181     7.002294    26.440917        5574.99       68230.36           62655.37\n",
        "182     8.753142    45.293847       80241.27      596063.00          515821.73\n",
        "183     3.147741    15.594552       27043.54       87471.43           60427.89\n",
        "184     7.196779    27.288652       61977.54      431990.70          370013.16\n",
        "185    76.203692   367.225653      977772.62      136717.57         -841055.05\n",
        "186    10.804337    42.031199       41905.18       30008.81          -11896.37\n",
        "187    10.705327    45.891477       87839.45       19420.34          -68419.11\n",
        "188    51.800686   255.153235      445058.32      274752.60         -170305.72\n",
        "189     5.882779    27.512271      127495.18       10315.35         -117179.83\n",
        "190     6.686406    26.103097       23874.67       45252.42           21377.75\n",
        "191     5.833355    23.741603       21535.87      433832.28          412296.41\n",
        "192    45.556096   218.008350      276096.18       74215.43         -201880.75\n",
        "193     5.172606    21.548782        8506.79       78137.29           69630.50\n",
        "194    10.118018    46.700709       49163.01       83915.72           34752.71\n",
        "195    51.675537   233.533189      434110.57      372240.72          -61869.85\n",
        "196     2.794631    11.996118       73789.38      148021.90           74232.52\n",
        "197     7.611698    38.809973       88006.84       31184.18          -56822.66\n",
        "198    15.697651   105.035207      117958.96       33324.36          -84634.60\n",
        "199    50.275893   225.055138      407738.79       32079.13         -375659.66\n",
        "\n",
        "[200 rows x 5 columns]"
       ]
      }
     ],
     "prompt_number": 46
    },
    {
     "cell_type": "code",
     "collapsed": false,
     "input": [
      "sales_data.yearly_difference.plot()"
     ],
     "language": "python",
     "metadata": {},
     "outputs": [
      {
       "metadata": {},
       "output_type": "pyout",
       "prompt_number": 47,
       "text": [
        "<matplotlib.axes._subplots.AxesSubplot at 0x7fec22bd7e10>"
       ]
      },
      {
       "metadata": {},
       "output_type": "display_data",
       "png": "[encoded data removed]",
       "text": [
        "<matplotlib.figure.Figure at 0x7fec256a91d0>"
       ]
      }
     ],
     "prompt_number": 47
    },
    {
     "cell_type": "code",
     "collapsed": false,
     "input": [
      "sales_data['growth_rate'] = sales_data['2016_q1_sales'] / sales_data['2015_q1_sales']"
     ],
     "language": "python",
     "metadata": {},
     "outputs": [],
     "prompt_number": 48
    },
    {
     "cell_type": "code",
     "collapsed": false,
     "input": [
      "sales_data.growth_rate.plot()"
     ],
     "language": "python",
     "metadata": {},
     "outputs": [
      {
       "metadata": {},
       "output_type": "pyout",
       "prompt_number": 49,
       "text": [
        "<matplotlib.axes._subplots.AxesSubplot at 0x7fec22572d10>"
       ]
      },
      {
       "metadata": {},
       "output_type": "display_data",
       "png": "[encoded data removed]",
       "text": [
        "<matplotlib.figure.Figure at 0x7fec225abb50>"
       ]
      }
     ],
     "prompt_number": 49
    },
    {
     "cell_type": "code",
     "collapsed": false,
     "input": [
      "import math\n",
      "sales_data['growth_rate_log'] = sales_data.growth_rate.map(math.log)"
     ],
     "language": "python",
     "metadata": {},
     "outputs": [],
     "prompt_number": 50
    },
    {
     "cell_type": "code",
     "collapsed": false,
     "input": [
      "sales_data.growth_rate_log.plot()"
     ],
     "language": "python",
     "metadata": {},
     "outputs": [
      {
       "metadata": {},
       "output_type": "pyout",
       "prompt_number": 51,
       "text": [
        "<matplotlib.axes._subplots.AxesSubplot at 0x7fec226877d0>"
       ]
      },
      {
       "metadata": {},
       "output_type": "display_data",
       "png": "[encoded data removed]",
       "text": [
        "<matplotlib.figure.Figure at 0x7fec228b65d0>"
       ]
      }
     ],
     "prompt_number": 51
    },
    {
     "cell_type": "code",
     "collapsed": false,
     "input": [
      "matplotlib.pyplot.scatter(sales_data['2016_q1_sales'] + sales_data['2015_q1_sales'],\n",
      "                          sales_data['growth_rate_log'])"
     ],
     "language": "python",
     "metadata": {},
     "outputs": [
      {
       "metadata": {},
       "output_type": "pyout",
       "prompt_number": 56,
       "text": [
        "<matplotlib.collections.PathCollection at 0x7fec21e37c50>"
       ]
      },
      {
       "metadata": {},
       "output_type": "display_data",
       "png": "[encoded data removed]",
       "text": [
        "<matplotlib.figure.Figure at 0x7fec21f1e950>"
       ]
      }
     ],
     "prompt_number": 56
    },
    {
     "cell_type": "code",
     "collapsed": false,
     "input": [
      "sales_data['Q1_sales_total'] = sales_data['2016_q1_sales'] + sales_data['2015_q1_sales']"
     ],
     "language": "python",
     "metadata": {},
     "outputs": [],
     "prompt_number": 57
    },
    {
     "cell_type": "markdown",
     "metadata": {},
     "source": [
      "We can compare an array with a scalar, and that gives an array of booleans."
     ]
    },
    {
     "cell_type": "code",
     "collapsed": false,
     "input": [
      "million_dollar_club = sales_data.Q1_sales_total > 1000000\n",
      "million_dollar_club"
     ],
     "language": "python",
     "metadata": {},
     "outputs": [
      {
       "metadata": {},
       "output_type": "pyout",
       "prompt_number": 60,
       "text": [
        "0      False\n",
        "1      False\n",
        "2      False\n",
        "3      False\n",
        "4      False\n",
        "5      False\n",
        "6      False\n",
        "7      False\n",
        "8      False\n",
        "9      False\n",
        "10     False\n",
        "11     False\n",
        "12     False\n",
        "13     False\n",
        "14     False\n",
        "15     False\n",
        "16     False\n",
        "17     False\n",
        "18     False\n",
        "19     False\n",
        "20     False\n",
        "21     False\n",
        "22     False\n",
        "23     False\n",
        "24     False\n",
        "25     False\n",
        "26     False\n",
        "27     False\n",
        "28     False\n",
        "29     False\n",
        "       ...  \n",
        "170    False\n",
        "171    False\n",
        "172    False\n",
        "173    False\n",
        "174    False\n",
        "175    False\n",
        "176    False\n",
        "177    False\n",
        "178    False\n",
        "179     True\n",
        "180    False\n",
        "181    False\n",
        "182    False\n",
        "183    False\n",
        "184    False\n",
        "185     True\n",
        "186    False\n",
        "187    False\n",
        "188    False\n",
        "189    False\n",
        "190    False\n",
        "191    False\n",
        "192    False\n",
        "193    False\n",
        "194    False\n",
        "195    False\n",
        "196    False\n",
        "197    False\n",
        "198    False\n",
        "199    False\n",
        "Name: Q1_sales_total, dtype: bool"
       ]
      }
     ],
     "prompt_number": 60
    },
    {
     "cell_type": "code",
     "collapsed": false,
     "input": [
      "sales_data[1:4]"
     ],
     "language": "python",
     "metadata": {},
     "outputs": [
      {
       "html": [
        "<div style=\"max-width:1500px;overflow:auto;\">\n",
        "<table border=\"1\" class=\"dataframe\">\n",
        "  <thead>\n",
        "    <tr style=\"text-align: right;\">\n",
        "      <th></th>\n",
        "      <th>volume_sold</th>\n",
        "      <th>2015_margin</th>\n",
        "      <th>2015_q1_sales</th>\n",
        "      <th>2016_q1_sales</th>\n",
        "      <th>yearly_difference</th>\n",
        "      <th>growth_rate</th>\n",
        "      <th>growth_rate_log</th>\n",
        "      <th>Q1_sales_total</th>\n",
        "    </tr>\n",
        "  </thead>\n",
        "  <tbody>\n",
        "    <tr>\n",
        "      <th>1</th>\n",
        "      <td>4.776510</td>\n",
        "      <td>21.082425</td>\n",
        "      <td>22351.86</td>\n",
        "      <td>21736.63</td>\n",
        "      <td>-615.23</td>\n",
        "      <td>0.972475</td>\n",
        "      <td>-0.027911</td>\n",
        "      <td>44088.49</td>\n",
        "    </tr>\n",
        "    <tr>\n",
        "      <th>2</th>\n",
        "      <td>16.602401</td>\n",
        "      <td>93.612494</td>\n",
        "      <td>277764.46</td>\n",
        "      <td>306942.27</td>\n",
        "      <td>29177.81</td>\n",
        "      <td>1.105045</td>\n",
        "      <td>0.099886</td>\n",
        "      <td>584706.73</td>\n",
        "    </tr>\n",
        "    <tr>\n",
        "      <th>3</th>\n",
        "      <td>4.296111</td>\n",
        "      <td>16.824704</td>\n",
        "      <td>16805.11</td>\n",
        "      <td>9307.75</td>\n",
        "      <td>-7497.36</td>\n",
        "      <td>0.553864</td>\n",
        "      <td>-0.590836</td>\n",
        "      <td>26112.86</td>\n",
        "    </tr>\n",
        "  </tbody>\n",
        "</table>\n",
        "</div>"
       ],
       "metadata": {},
       "output_type": "pyout",
       "prompt_number": 59,
       "text": [
        "   volume_sold  2015_margin  2015_q1_sales  2016_q1_sales  yearly_difference  \\\n",
        "1     4.776510    21.082425       22351.86       21736.63            -615.23   \n",
        "2    16.602401    93.612494      277764.46      306942.27           29177.81   \n",
        "3     4.296111    16.824704       16805.11        9307.75           -7497.36   \n",
        "\n",
        "   growth_rate  growth_rate_log  Q1_sales_total  \n",
        "1     0.972475        -0.027911        44088.49  \n",
        "2     1.105045         0.099886       584706.73  \n",
        "3     0.553864        -0.590836        26112.86  "
       ]
      }
     ],
     "prompt_number": 59
    },
    {
     "cell_type": "markdown",
     "metadata": {},
     "source": [
      "We can select rows in a dataframe using an array of booleans."
     ]
    },
    {
     "cell_type": "code",
     "collapsed": false,
     "input": [
      "sales_data[million_dollar_club]"
     ],
     "language": "python",
     "metadata": {},
     "outputs": [
      {
       "html": [
        "<div style=\"max-width:1500px;overflow:auto;\">\n",
        "<table border=\"1\" class=\"dataframe\">\n",
        "  <thead>\n",
        "    <tr style=\"text-align: right;\">\n",
        "      <th></th>\n",
        "      <th>volume_sold</th>\n",
        "      <th>2015_margin</th>\n",
        "      <th>2015_q1_sales</th>\n",
        "      <th>2016_q1_sales</th>\n",
        "      <th>yearly_difference</th>\n",
        "      <th>growth_rate</th>\n",
        "      <th>growth_rate_log</th>\n",
        "      <th>Q1_sales_total</th>\n",
        "    </tr>\n",
        "  </thead>\n",
        "  <tbody>\n",
        "    <tr>\n",
        "      <th>32</th>\n",
        "      <td>7.824354</td>\n",
        "      <td>30.681099</td>\n",
        "      <td>66468.32</td>\n",
        "      <td>1050711.75</td>\n",
        "      <td>984243.43</td>\n",
        "      <td>15.807707</td>\n",
        "      <td>2.760498</td>\n",
        "      <td>1117180.07</td>\n",
        "    </tr>\n",
        "    <tr>\n",
        "      <th>35</th>\n",
        "      <td>18.744751</td>\n",
        "      <td>97.224340</td>\n",
        "      <td>926706.76</td>\n",
        "      <td>260966.41</td>\n",
        "      <td>-665740.35</td>\n",
        "      <td>0.281606</td>\n",
        "      <td>-1.267245</td>\n",
        "      <td>1187673.17</td>\n",
        "    </tr>\n",
        "    <tr>\n",
        "      <th>120</th>\n",
        "      <td>8.347318</td>\n",
        "      <td>32.732539</td>\n",
        "      <td>36855.39</td>\n",
        "      <td>2443253.18</td>\n",
        "      <td>2406397.79</td>\n",
        "      <td>66.292968</td>\n",
        "      <td>4.194084</td>\n",
        "      <td>2480108.57</td>\n",
        "    </tr>\n",
        "    <tr>\n",
        "      <th>123</th>\n",
        "      <td>29.878030</td>\n",
        "      <td>168.245862</td>\n",
        "      <td>2337324.42</td>\n",
        "      <td>129489.89</td>\n",
        "      <td>-2207834.53</td>\n",
        "      <td>0.055401</td>\n",
        "      <td>-2.893159</td>\n",
        "      <td>2466814.31</td>\n",
        "    </tr>\n",
        "    <tr>\n",
        "      <th>179</th>\n",
        "      <td>55.739180</td>\n",
        "      <td>268.869600</td>\n",
        "      <td>1082136.01</td>\n",
        "      <td>100765.67</td>\n",
        "      <td>-981370.34</td>\n",
        "      <td>0.093117</td>\n",
        "      <td>-2.373894</td>\n",
        "      <td>1182901.68</td>\n",
        "    </tr>\n",
        "    <tr>\n",
        "      <th>185</th>\n",
        "      <td>76.203692</td>\n",
        "      <td>367.225653</td>\n",
        "      <td>977772.62</td>\n",
        "      <td>136717.57</td>\n",
        "      <td>-841055.05</td>\n",
        "      <td>0.139826</td>\n",
        "      <td>-1.967360</td>\n",
        "      <td>1114490.19</td>\n",
        "    </tr>\n",
        "  </tbody>\n",
        "</table>\n",
        "</div>"
       ],
       "metadata": {},
       "output_type": "pyout",
       "prompt_number": 61,
       "text": [
        "     volume_sold  2015_margin  2015_q1_sales  2016_q1_sales  \\\n",
        "32      7.824354    30.681099       66468.32     1050711.75   \n",
        "35     18.744751    97.224340      926706.76      260966.41   \n",
        "120     8.347318    32.732539       36855.39     2443253.18   \n",
        "123    29.878030   168.245862     2337324.42      129489.89   \n",
        "179    55.739180   268.869600     1082136.01      100765.67   \n",
        "185    76.203692   367.225653      977772.62      136717.57   \n",
        "\n",
        "     yearly_difference  growth_rate  growth_rate_log  Q1_sales_total  \n",
        "32           984243.43    15.807707         2.760498      1117180.07  \n",
        "35          -665740.35     0.281606        -1.267245      1187673.17  \n",
        "120         2406397.79    66.292968         4.194084      2480108.57  \n",
        "123        -2207834.53     0.055401        -2.893159      2466814.31  \n",
        "179         -981370.34     0.093117        -2.373894      1182901.68  \n",
        "185         -841055.05     0.139826        -1.967360      1114490.19  "
       ]
      }
     ],
     "prompt_number": 61
    },
    {
     "cell_type": "markdown",
     "metadata": {},
     "source": [
      "The following three ways of defining not_func are the same.\n",
      "The python keyword \"not\" can't be used as a function directly."
     ]
    },
    {
     "cell_type": "code",
     "collapsed": false,
     "input": [
      "def not_func(x):\n",
      "    return not x\n",
      "\n",
      "def not_func(x): return not x\n",
      "\n",
      "not_func = lambda x: not x\n"
     ],
     "language": "python",
     "metadata": {},
     "outputs": [],
     "prompt_number": 64
    },
    {
     "cell_type": "code",
     "collapsed": false,
     "input": [
      "cheapskate_club = million_dollar_club.map(not_func)"
     ],
     "language": "python",
     "metadata": {},
     "outputs": [],
     "prompt_number": 65
    },
    {
     "cell_type": "code",
     "collapsed": false,
     "input": [
      "low_value_products = sales_data[cheapskate_club]"
     ],
     "language": "python",
     "metadata": {},
     "outputs": [],
     "prompt_number": 66
    },
    {
     "cell_type": "code",
     "collapsed": false,
     "input": [
      "matplotlib.pyplot.scatter(low_value_products.Q1_sales_total,\n",
      "                          low_value_products.growth_rate_log)"
     ],
     "language": "python",
     "metadata": {},
     "outputs": [
      {
       "metadata": {},
       "output_type": "pyout",
       "prompt_number": 67,
       "text": [
        "<matplotlib.collections.PathCollection at 0x7fec21d77490>"
       ]
      },
      {
       "metadata": {},
       "output_type": "display_data",
       "png": "[encoded data removed]",
       "text": [
        "<matplotlib.figure.Figure at 0x7fec21e5a550>"
       ]
      }
     ],
     "prompt_number": 67
    },
    {
     "cell_type": "code",
     "collapsed": false,
     "input": [
      "sum(low_value_products.Q1_sales_total)"
     ],
     "language": "python",
     "metadata": {},
     "outputs": [
      {
       "metadata": {},
       "output_type": "pyout",
       "prompt_number": 68,
       "text": [
        "52317001.400000043"
       ]
      }
     ],
     "prompt_number": 68
    },
    {
     "cell_type": "code",
     "collapsed": false,
     "input": [
      "low_value_products.Q1_sales_total.sum()"
     ],
     "language": "python",
     "metadata": {},
     "outputs": [
      {
       "metadata": {},
       "output_type": "pyout",
       "prompt_number": 69,
       "text": [
        "52317001.400000006"
       ]
      }
     ],
     "prompt_number": 69
    },
    {
     "cell_type": "code",
     "collapsed": false,
     "input": [
      "sales_data[million_dollar_club].Q1_sales_total.sum()"
     ],
     "language": "python",
     "metadata": {},
     "outputs": [
      {
       "metadata": {},
       "output_type": "pyout",
       "prompt_number": 70,
       "text": [
        "9549167.9900000002"
       ]
      }
     ],
     "prompt_number": 70
    },
    {
     "cell_type": "code",
     "collapsed": false,
     "input": [
      "labels = ['High Value Products', 'Low Value Products']\n",
      "sizes = [sales_data[million_dollar_club].Q1_sales_total.sum(),\n",
      "         low_value_products.Q1_sales_total.sum()]\n",
      "colors = ['gold', 'lightskyblue']\n",
      "explode = (0.1, 0) \n",
      "matplotlib.pyplot.pie(sizes, explode=explode, labels=labels, colors=colors,\n",
      "        autopct='%1.1f%%', shadow=True, startangle=90)"
     ],
     "language": "python",
     "metadata": {},
     "outputs": [
      {
       "metadata": {},
       "output_type": "pyout",
       "prompt_number": 71,
       "text": [
        "([<matplotlib.patches.Wedge at 0x7fec21cc5410>,\n",
        "  <matplotlib.patches.Wedge at 0x7fec21cd47d0>],\n",
        " [<matplotlib.text.Text at 0x7fec21cc5e90>,\n",
        "  <matplotlib.text.Text at 0x7fec21ce1250>],\n",
        " [<matplotlib.text.Text at 0x7fec21cd4390>,\n",
        "  <matplotlib.text.Text at 0x7fec21ce1690>])"
       ]
      },
      {
       "metadata": {},
       "output_type": "display_data",
       "png": "[encoded data removed]",
       "text": [
        "<matplotlib.figure.Figure at 0x7fec21dab250>"
       ]
      }
     ],
     "prompt_number": 71
    },
    {
     "cell_type": "markdown",
     "metadata": {},
     "source": [
      "# Growth rate analysis"
     ]
    },
    {
     "cell_type": "code",
     "collapsed": false,
     "input": [
      "sales_data.growth_rate_log.mean()"
     ],
     "language": "python",
     "metadata": {},
     "outputs": [
      {
       "metadata": {},
       "output_type": "pyout",
       "prompt_number": 72,
       "text": [
        "-0.01253009750283304"
       ]
      }
     ],
     "prompt_number": 72
    },
    {
     "cell_type": "code",
     "collapsed": false,
     "input": [
      "five_bin_cut = pandas.cut(sales_data.growth_rate_log, 5)"
     ],
     "language": "python",
     "metadata": {},
     "outputs": [],
     "prompt_number": 94
    },
    {
     "cell_type": "code",
     "collapsed": false,
     "input": [
      "histogram_data = pandas.Series(data=five_bin_cut.value_counts())\n",
      "matplotlib.pyplot.plot(histogram_data.values)"
     ],
     "language": "python",
     "metadata": {},
     "outputs": [
      {
       "metadata": {},
       "output_type": "pyout",
       "prompt_number": 115,
       "text": [
        "[<matplotlib.lines.Line2D at 0x7fec210e4550>]"
       ]
      },
      {
       "metadata": {},
       "output_type": "display_data",
       "png": "[encoded data removed]",
       "text": [
        "<matplotlib.figure.Figure at 0x7fec217c8c50>"
       ]
      }
     ],
     "prompt_number": 115
    },
    {
     "cell_type": "code",
     "collapsed": false,
     "input": [
      "five_bin_cut.value_counts()"
     ],
     "language": "python",
     "metadata": {},
     "outputs": [
      {
       "metadata": {},
       "output_type": "pyout",
       "prompt_number": 95,
       "text": [
        "(-1.000472, 0.731]     111\n",
        "(0.731, 2.463]          38\n",
        "(-2.732, -1.000472]     33\n",
        "(2.463, 4.194]          11\n",
        "(-4.472, -2.732]         7\n",
        "dtype: int64"
       ]
      }
     ],
     "prompt_number": 95
    },
    {
     "cell_type": "code",
     "collapsed": false,
     "input": [
      "matplotlib.pyplot.hist(sales_data.growth_rate_log, 25, \n",
      "                       facecolor='green', alpha=0.75)\n"
     ],
     "language": "python",
     "metadata": {},
     "outputs": [
      {
       "metadata": {},
       "output_type": "pyout",
       "prompt_number": 114,
       "text": [
        "(array([  1.,   0.,   0.,   1.,   5.,   5.,   4.,   6.,   7.,  11.,  17.,\n",
        "         19.,  27.,  27.,  21.,  13.,  13.,   5.,   5.,   2.,   3.,   3.,\n",
        "          2.,   1.,   2.]),\n",
        " array([-4.46350963, -4.11720589, -3.77090215, -3.42459841, -3.07829467,\n",
        "        -2.73199094, -2.3856872 , -2.03938346, -1.69307972, -1.34677598,\n",
        "        -1.00047225, -0.65416851, -0.30786477,  0.03843897,  0.38474271,\n",
        "         0.73104644,  1.07735018,  1.42365392,  1.76995766,  2.1162614 ,\n",
        "         2.46256513,  2.80886887,  3.15517261,  3.50147635,  3.84778009,\n",
        "         4.19408382]),\n",
        " <a list of 25 Patch objects>)"
       ]
      },
      {
       "metadata": {},
       "output_type": "display_data",
       "png": "[encoded data removed]",
       "text": [
        "<matplotlib.figure.Figure at 0x7fec2131e450>"
       ]
      }
     ],
     "prompt_number": 114
    },
    {
     "cell_type": "code",
     "collapsed": false,
     "input": [
      "matplotlib.pyplot.hist(sales_data[million_dollar_club].growth_rate_log, 5, \n",
      "                            facecolor='gold', alpha=0.75)"
     ],
     "language": "python",
     "metadata": {},
     "outputs": [
      {
       "metadata": {},
       "output_type": "pyout",
       "prompt_number": 111,
       "text": [
        "(array([ 3.,  1.,  0.,  1.,  1.]),\n",
        " array([-2.89315934, -1.4757107 , -0.05826207,  1.35918656,  2.77663519,\n",
        "         4.19408382]),\n",
        " <a list of 5 Patch objects>)"
       ]
      },
      {
       "metadata": {},
       "output_type": "display_data",
       "png": "[encoded data removed]",
       "text": [
        "<matplotlib.figure.Figure at 0x7fec214b7ad0>"
       ]
      }
     ],
     "prompt_number": 111
    },
    {
     "cell_type": "code",
     "collapsed": false,
     "input": [
      "matplotlib.pyplot.hist(low_value_products.growth_rate_log, 5, \n",
      "                            facecolor='lightskyblue', alpha=0.75)"
     ],
     "language": "python",
     "metadata": {},
     "outputs": [
      {
       "metadata": {},
       "output_type": "pyout",
       "prompt_number": 113,
       "text": [
        "(array([   6.,   30.,  111.,   38.,    9.]),\n",
        " array([-4.46350963, -2.73632691, -1.00914419,  0.71803853,  2.44522124,\n",
        "         4.17240396]),\n",
        " <a list of 5 Patch objects>)"
       ]
      },
      {
       "metadata": {},
       "output_type": "display_data",
       "png": "[encoded data removed]",
       "text": [
        "<matplotlib.figure.Figure at 0x7fec21ee12d0>"
       ]
      }
     ],
     "prompt_number": 113
    },
    {
     "cell_type": "code",
     "collapsed": false,
     "input": [
      "matplotlib.pyplot.boxplot(sales_data['2015_q1_sales'])"
     ],
     "language": "python",
     "metadata": {},
     "outputs": [
      {
       "metadata": {},
       "output_type": "pyout",
       "prompt_number": 117,
       "text": [
        "{'boxes': [<matplotlib.lines.Line2D at 0x7fec21c175d0>],\n",
        " 'caps': [<matplotlib.lines.Line2D at 0x7fec21a54cd0>,\n",
        "  <matplotlib.lines.Line2D at 0x7fec21a54190>],\n",
        " 'fliers': [<matplotlib.lines.Line2D at 0x7fec21a48c90>],\n",
        " 'means': [],\n",
        " 'medians': [<matplotlib.lines.Line2D at 0x7fec21a48850>],\n",
        " 'whiskers': [<matplotlib.lines.Line2D at 0x7fec21c17c90>,\n",
        "  <matplotlib.lines.Line2D at 0x7fec21c17850>]}"
       ]
      },
      {
       "metadata": {},
       "output_type": "display_data",
       "png": "[encoded data removed]",
       "text": [
        "<matplotlib.figure.Figure at 0x7fec21107590>"
       ]
      }
     ],
     "prompt_number": 117
    },
    {
     "cell_type": "code",
     "collapsed": false,
     "input": [
      "junk_result = matplotlib.pyplot.boxplot([\n",
      "                           sales_data['2015_q1_sales'],\n",
      "                           sales_data['2016_q1_sales']\n",
      "                           ],\n",
      "                           labels=['2015', '2016'],\n",
      "                           widths=[0.5,0.5]\n",
      "                           )"
     ],
     "language": "python",
     "metadata": {},
     "outputs": [
      {
       "metadata": {},
       "output_type": "display_data",
       "png": "[encoded data removed]",
       "text": [
        "<matplotlib.figure.Figure at 0x7fec20976610>"
       ]
      }
     ],
     "prompt_number": 141
    },
    {
     "cell_type": "code",
     "collapsed": false,
     "input": [
      "junk_result = sales_data[['2015_q1_sales', '2016_q1_sales']].boxplot(\n",
      "widths=[0.5, 0.5])"
     ],
     "language": "python",
     "metadata": {},
     "outputs": [
      {
       "metadata": {},
       "output_type": "display_data",
       "png": "[encoded data removed]",
       "text": [
        "<matplotlib.figure.Figure at 0x7fec20a2cad0>"
       ]
      }
     ],
     "prompt_number": 142
    },
    {
     "cell_type": "code",
     "collapsed": false,
     "input": [],
     "language": "python",
     "metadata": {},
     "outputs": []
    }
   ],
   "metadata": {}
  }
 ]
}