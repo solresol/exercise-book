{
 "metadata": {
  "name": "",
  "signature": "sha256:c5e7b7ce41389b91d41ee571a2f8976d16eee5f10366f880f578aae2eb541941"
 },
 "nbformat": 3,
 "nbformat_minor": 0,
 "worksheets": [
  {
   "cells": [
    {
     "cell_type": "markdown",
     "metadata": {},
     "source": [
      "# Predicting Monopoly Hotel Prices\n",
      "\n",
      "If you've played the game\n",
      "[Monopoly](https://en.wikipedia.org/wiki/Monopoly_(game)\n",
      "you will know that some properties cost more than others, and \n",
      "the rent charged for a Hotel.\n",
      "\n",
      "There's a relationship between them. Let's find out what it is."
     ]
    },
    {
     "cell_type": "markdown",
     "metadata": {},
     "source": [
      "The set of properties is on an HTML table here:\n",
      "http://www.jdawiseman.com/papers/trivia/monopoly-rents.html"
     ]
    },
    {
     "cell_type": "code",
     "collapsed": false,
     "input": [
      "%matplotlib inline\n",
      "import pandas\n",
      "url = 'http://www.jdawiseman.com/papers/trivia/monopoly-rents.html'\n",
      "dfs = pandas.read_html(url, header=1, index_col=0)"
     ],
     "language": "python",
     "metadata": {},
     "outputs": []
    },
    {
     "cell_type": "code",
     "collapsed": false,
     "input": [
      "# There should only be one DataFrame.\n",
      "# Make a copy of it and drop all the rows with NaN values (these\n",
      "# are the railway stations and the utilities)"
     ],
     "language": "python",
     "metadata": {},
     "outputs": []
    },
    {
     "cell_type": "code",
     "collapsed": false,
     "input": [
      "# The index is the name of the property.\n",
      "monopoly.index"
     ],
     "language": "python",
     "metadata": {},
     "outputs": []
    },
    {
     "cell_type": "code",
     "collapsed": false,
     "input": [
      "# Have a look at the column names\n",
      "#  - \"1 hse\" means the rent when there is one house on the property\n",
      "#  - \"M'tg\" means the price to mortgage the property\n"
     ],
     "language": "python",
     "metadata": {},
     "outputs": []
    },
    {
     "cell_type": "code",
     "collapsed": false,
     "input": [
      "# Make a dataframe X which contains the \"Site\" column"
     ],
     "language": "python",
     "metadata": {},
     "outputs": []
    },
    {
     "cell_type": "code",
     "collapsed": false,
     "input": [
      "# Make a series Y which contains the \"Hotel\" column"
     ],
     "language": "python",
     "metadata": {},
     "outputs": []
    },
    {
     "cell_type": "code",
     "collapsed": false,
     "input": [
      "# Use sklearn.cross_validation.train_test_split to split X and y\n",
      "# into train and test sets\n"
     ],
     "language": "python",
     "metadata": {},
     "outputs": []
    },
    {
     "cell_type": "code",
     "collapsed": false,
     "input": [
      "# Check the index of the X_training data to see what properties were\n",
      "# included. How many are there?"
     ],
     "language": "python",
     "metadata": {},
     "outputs": []
    },
    {
     "cell_type": "code",
     "collapsed": false,
     "input": [
      "# Check the index of the X_test data to see what properties were\n",
      "# included. How many are there?"
     ],
     "language": "python",
     "metadata": {},
     "outputs": []
    },
    {
     "cell_type": "code",
     "collapsed": false,
     "input": [
      "# Do a train_test_split again, but this time, specify test_size"
     ],
     "language": "python",
     "metadata": {},
     "outputs": []
    },
    {
     "cell_type": "code",
     "collapsed": false,
     "input": [
      "# Make a LinearRegression object, and try to fit the X_train data\n",
      "# to Y_train"
     ],
     "language": "python",
     "metadata": {},
     "outputs": []
    },
    {
     "cell_type": "code",
     "collapsed": false,
     "input": [
      "# Your LinearRegression object has a .score() method.\n",
      "# Try it on your X_train and Y_train data.\n",
      "# It will be good, but it will be overly confident about its accuracy"
     ],
     "language": "python",
     "metadata": {},
     "outputs": []
    },
    {
     "cell_type": "code",
     "collapsed": false,
     "input": [
      "# Make predictions for your X_test data"
     ],
     "language": "python",
     "metadata": {},
     "outputs": []
    },
    {
     "cell_type": "code",
     "collapsed": false,
     "input": [
      "# Zip these predictions with the correct answers (Y_test) and compare\n",
      "# them visually. You could graph them too if you want to."
     ],
     "language": "python",
     "metadata": {},
     "outputs": []
    },
    {
     "cell_type": "code",
     "collapsed": false,
     "input": [
      "# sklearn.metrics.median_absolute_error to get a sense of how\n",
      "# far wrong it was"
     ],
     "language": "python",
     "metadata": {},
     "outputs": []
    },
    {
     "cell_type": "code",
     "collapsed": false,
     "input": [
      "# Try the same with a sklearn.dummy.DummyRegressor() and \n",
      "# sklearn.tree.DecisionTreeRegressor()"
     ],
     "language": "python",
     "metadata": {},
     "outputs": []
    }
   ],
   "metadata": {}
  }
 ]
}