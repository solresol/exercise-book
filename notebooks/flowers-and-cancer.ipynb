{
 "metadata": {
  "name": "",
  "signature": "sha256:ed913bc4ca53ee1e262886ef6d89bb01161faa2bf9d52b9159c9c480f7cb8bfa"
 },
 "nbformat": 3,
 "nbformat_minor": 0,
 "worksheets": [
  {
   "cells": [
    {
     "cell_type": "markdown",
     "metadata": {},
     "source": [
      "# Logistic Regression Lab 2\n",
      "\n",
      "Scikit-Learn includes several sample datasets which can demonstrate\n",
      "logistic regression's usefulness.\n",
      "\n",
      "This is a very free-form lab: you won't be walked through it step-by-step,\n",
      "so you might want to keep some other examples open."
     ]
    },
    {
     "cell_type": "code",
     "collapsed": false,
     "input": [
      "import sklearn.datasets"
     ],
     "language": "python",
     "metadata": {},
     "outputs": []
    },
    {
     "cell_type": "markdown",
     "metadata": {},
     "source": [
      "We will look at the Wisconsin breast cancer database, and a classic\n",
      "dataset of [different kinds of iris flowers](https://en.wikipedia.org/wiki/Iris_flower_data_set)."
     ]
    },
    {
     "cell_type": "code",
     "collapsed": false,
     "input": [
      "bc = sklearn.datasets.load_breast_cancer()\n",
      "print bc.DESCR"
     ],
     "language": "python",
     "metadata": {},
     "outputs": []
    },
    {
     "cell_type": "code",
     "collapsed": false,
     "input": [
      "iris = sklearn.datasets.load_iris()\n",
      "print iris.DESCR"
     ],
     "language": "python",
     "metadata": {},
     "outputs": []
    },
    {
     "cell_type": "markdown",
     "metadata": {},
     "source": [
      "# Wisconsin\n",
      "\n",
      "In the Wisconsin breast cancer database, you are trying to predict whether\n",
      "a tumour is malignant or benign. The database consists of the measurements\n",
      "of the tumour (bc.data) and the nature of the tumour (bc.target) -- 1 = malignant, 0 == benign.\n",
      "\n",
      "Try using various combinations of parameters in a logistic regression.\n",
      "\n",
      "Validate your results with a cross cut validation\n",
      "\n"
     ]
    },
    {
     "cell_type": "code",
     "collapsed": false,
     "input": [],
     "language": "python",
     "metadata": {},
     "outputs": []
    },
    {
     "cell_type": "markdown",
     "metadata": {},
     "source": [
      "# Irises\n",
      "\n",
      "There are three kinds of flowers in the dataset:\n",
      "\n",
      "- [Setosa](https://en.wikipedia.org/wiki/Iris_setosa) ( = 0)\n",
      "\n",
      "- [Versicolor](https://en.wikipedia.org/wiki/Iris_versicolor) ( = 1)\n",
      "\n",
      "- [Virginica](https://en.wikipedia.org/wiki/Iris_virginica) ( = 2)\n",
      "\n",
      "Try using various combinations of parameters in a logistic regression.\n",
      "\n",
      "Validate your results with a cross cut validation"
     ]
    },
    {
     "cell_type": "code",
     "collapsed": false,
     "input": [],
     "language": "python",
     "metadata": {},
     "outputs": []
    }
   ],
   "metadata": {}
  }
 ]
}