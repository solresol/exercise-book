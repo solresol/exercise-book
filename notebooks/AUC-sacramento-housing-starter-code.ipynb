{
 "metadata": {
  "kernelspec": {
   "display_name": "Python 2",
   "language": "python",
   "name": "python2"
  },
  "language_info": {
   "codemirror_mode": {
    "name": "ipython",
    "version": 2
   },
   "file_extension": ".py",
   "mimetype": "text/x-python",
   "name": "python",
   "nbconvert_exporter": "python",
   "pygments_lexer": "ipython2",
   "version": "2.7.11"
  },
  "name": "",
  "signature": "sha256:653a07d1561c8af98e74320b5e886e14a99c9ddf093780dfcc29b2461929a687"
 },
 "nbformat": 3,
 "nbformat_minor": 0,
 "worksheets": [
  {
   "cells": [
    {
     "cell_type": "markdown",
     "metadata": {},
     "source": [
      "Load required packages"
     ]
    },
    {
     "cell_type": "code",
     "collapsed": false,
     "input": [
      "import numpy as np\n",
      "import pandas as pd\n",
      "import matplotlib.pyplot as plt\n",
      "from sklearn.linear_model import LogisticRegression\n",
      "from sklearn.metrics import roc_curve, auc\n",
      "from sklearn.cross_validation import train_test_split\n",
      "from sklearn.metrics import confusion_matrix, accuracy_score, precision_score, recall_score\n",
      "\n",
      "plt.style.use('seaborn-white')\n",
      "%matplotlib inline"
     ],
     "language": "python",
     "metadata": {},
     "outputs": [],
     "prompt_number": 1
    },
    {
     "cell_type": "markdown",
     "metadata": {},
     "source": [
      "Some plotting functions to help you plot the ROC curve"
     ]
    },
    {
     "cell_type": "code",
     "collapsed": true,
     "input": [
      "# generic curve plotting function\n",
      "def auc_plotting_function(rate1, rate2, rate1_name, rate2_name, curve_name):\n",
      "    AUC = auc(rate1, rate2)\n",
      "    # Plot of a ROC curve for class 1 (has_cancer)\n",
      "    plt.figure(figsize=[11,9])\n",
      "    plt.plot(rate1, rate2, label=curve_name + ' (area = %0.2f)' % AUC, linewidth=4)\n",
      "    plt.plot([0, 1], [0, 1], 'k--', linewidth=4)\n",
      "    plt.xlim([0.0, 1.0])\n",
      "    plt.ylim([0.0, 1.05])\n",
      "    plt.xlabel(rate1_name, fontsize=18)\n",
      "    plt.ylabel(rate2_name, fontsize=18)\n",
      "    plt.title(curve_name + ' for house price > 200,000', fontsize=18)\n",
      "    plt.legend(loc=\"lower right\")\n",
      "    plt.show()\n",
      "\n",
      "# plot receiving operator characteristic curve\n",
      "def plot_roc(y_true, y_score):\n",
      "    fpr, tpr, _ = roc_curve(y_true, y_score)\n",
      "    auc_plotting_function(fpr, tpr, 'False Positive Rate', 'True Positive Rate', 'ROC')\n"
     ],
     "language": "python",
     "metadata": {},
     "outputs": [],
     "prompt_number": 2
    },
    {
     "cell_type": "markdown",
     "metadata": {},
     "source": [
      "Load the Sacramento housing data"
     ]
    },
    {
     "cell_type": "code",
     "collapsed": false,
     "input": [
      "sac = pd.read_csv('Sacramentorealestatetransactions.csv')"
     ],
     "language": "python",
     "metadata": {},
     "outputs": [],
     "prompt_number": 3
    },
    {
     "cell_type": "markdown",
     "metadata": {},
     "source": [
      "Create a binary variable where 1 indicates a house sold for over 200,000 and 0 indicates a house sold for equal to or less than 200,000.\n",
      "\n",
      "Subset the data to just contain the number of beds, baths, the sq ft, and the over 200k indicator variable."
     ]
    },
    {
     "cell_type": "code",
     "collapsed": true,
     "input": [
      "sac['expensive'] = np.where(sac.price > 200000, 1, 0)"
     ],
     "language": "python",
     "metadata": {},
     "outputs": [],
     "prompt_number": 4
    },
    {
     "cell_type": "markdown",
     "metadata": {},
     "source": [
      "Split your data into training and testing sets. The predictors are the beds, baths, and sq ft. The feature is the over 200k class variable. Make the test size 33% (and optionally stratify by the over 200k class)."
     ]
    },
    {
     "cell_type": "code",
     "collapsed": false,
     "input": [
      "(X_train, X_test, Y_train, Y_test) = train_test_split(\n",
      "  sac[['beds', 'baths', 'sq__ft']],\n",
      "  sac.expensive,\n",
      "  test_size=0.33\n",
      ")"
     ],
     "language": "python",
     "metadata": {},
     "outputs": [],
     "prompt_number": 5
    },
    {
     "cell_type": "markdown",
     "metadata": {},
     "source": [
      "Fit a logistic regression on the training data."
     ]
    },
    {
     "cell_type": "code",
     "collapsed": false,
     "input": [
      "logreg = LogisticRegression()\n",
      "logreg.fit(X_train, Y_train)"
     ],
     "language": "python",
     "metadata": {},
     "outputs": [
      {
       "metadata": {},
       "output_type": "pyout",
       "prompt_number": 7,
       "text": [
        "LogisticRegression(C=1.0, class_weight=None, dual=False, fit_intercept=True,\n",
        "          intercept_scaling=1, max_iter=100, multi_class='ovr', n_jobs=1,\n",
        "          penalty='l2', random_state=None, solver='liblinear', tol=0.0001,\n",
        "          verbose=0, warm_start=False)"
       ]
      }
     ],
     "prompt_number": 7
    },
    {
     "cell_type": "markdown",
     "metadata": {},
     "source": [
      "Print out the confusion matrix"
     ]
    },
    {
     "cell_type": "code",
     "collapsed": false,
     "input": [
      "Y_pred = logreg.predict(X_test)"
     ],
     "language": "python",
     "metadata": {},
     "outputs": []
    },
    {
     "cell_type": "code",
     "collapsed": false,
     "input": [
      "((Y_pred == 1) & (Y_test == 1)).sum()"
     ],
     "language": "python",
     "metadata": {},
     "outputs": [
      {
       "metadata": {},
       "output_type": "pyout",
       "prompt_number": 10,
       "text": [
        "139"
       ]
      }
     ],
     "prompt_number": 10
    },
    {
     "cell_type": "code",
     "collapsed": false,
     "input": [
      "((Y_pred == 0) & (Y_test == 0)).sum()"
     ],
     "language": "python",
     "metadata": {},
     "outputs": [
      {
       "metadata": {},
       "output_type": "pyout",
       "prompt_number": 13,
       "text": [
        "69"
       ]
      }
     ],
     "prompt_number": 13
    },
    {
     "cell_type": "code",
     "collapsed": false,
     "input": [
      "conmat = np.array(confusion_matrix(Y_test, Y_pred))\n",
      "conmat"
     ],
     "language": "python",
     "metadata": {},
     "outputs": [
      {
       "metadata": {},
       "output_type": "pyout",
       "prompt_number": 20,
       "text": [
        "array([[ 69,  80],\n",
        "       [ 38, 139]])"
       ]
      }
     ],
     "prompt_number": 20
    },
    {
     "cell_type": "code",
     "collapsed": false,
     "input": [
      "confusion = pd.DataFrame(conmat, \n",
      "                         index=['under_200k', 'over_200k'],\n",
      "                         columns=['predicted_under_200k','predicted_over_200k'])\n",
      "\n",
      "print(confusion)"
     ],
     "language": "python",
     "metadata": {},
     "outputs": [
      {
       "output_type": "stream",
       "stream": "stdout",
       "text": [
        "            predicted_under_200k  predicted_over_200k\n",
        "under_200k                    69                   80\n",
        "over_200k                     38                  139\n"
       ]
      }
     ],
     "prompt_number": 21
    },
    {
     "cell_type": "markdown",
     "metadata": {},
     "source": [
      "Calculate the accuracy, precision, and recall. What can these three metrics tell you about your model?"
     ]
    },
    {
     "cell_type": "code",
     "collapsed": true,
     "input": [
      "accuracy_score(Y_test, Y_pred)"
     ],
     "language": "python",
     "metadata": {},
     "outputs": [
      {
       "metadata": {},
       "output_type": "pyout",
       "prompt_number": 22,
       "text": [
        "0.6380368098159509"
       ]
      }
     ],
     "prompt_number": 22
    },
    {
     "cell_type": "code",
     "collapsed": false,
     "input": [
      "precision_score(Y_test, Y_pred)"
     ],
     "language": "python",
     "metadata": {},
     "outputs": [
      {
       "metadata": {},
       "output_type": "pyout",
       "prompt_number": 23,
       "text": [
        "0.63470319634703198"
       ]
      }
     ],
     "prompt_number": 23
    },
    {
     "cell_type": "code",
     "collapsed": false,
     "input": [
      "recall_score(Y_test, Y_pred)"
     ],
     "language": "python",
     "metadata": {},
     "outputs": [
      {
       "metadata": {},
       "output_type": "pyout",
       "prompt_number": 24,
       "text": [
        "0.78531073446327682"
       ]
      }
     ],
     "prompt_number": 24
    },
    {
     "cell_type": "markdown",
     "metadata": {},
     "source": [
      "Say as a real estate agent, I prioritize minimizing false positives (predicting a house will sell for over 200k when it actually sells for under) because false positives make me lose money.\n",
      "\n",
      "Change the decision threshold to **lower the false positive rate** and then print out the new confusion matrix. What is the downside to lowering the false positive rate?"
     ]
    },
    {
     "cell_type": "code",
     "collapsed": false,
     "input": [
      "def make_prediction(x, threshold=0.73):\n",
      "    if x[1] >= threshold:\n",
      "        return 1\n",
      "    else:\n",
      "        return 0\n",
      "\n",
      "new_predictions = map(make_prediction, logreg.predict_proba(X_test))\n",
      "#new_predictions == logreg.predict(X_test)\n",
      "\n",
      "new_conmat = np.array(confusion_matrix(Y_test, new_predictions))\n",
      "new_confusion = pd.DataFrame(new_conmat, \n",
      "                         index=['under_200k', 'over_200k'],\n",
      "                         columns=['predicted_under_200k','predicted_over_200k'])\n",
      "\n",
      "print(new_confusion)"
     ],
     "language": "python",
     "metadata": {},
     "outputs": [
      {
       "output_type": "stream",
       "stream": "stdout",
       "text": [
        "            predicted_under_200k  predicted_over_200k\n",
        "under_200k                   149                    0\n",
        "over_200k                    153                   24\n"
       ]
      }
     ],
     "prompt_number": 34
    },
    {
     "cell_type": "markdown",
     "metadata": {},
     "source": [
      "Plot the ROC curve using the plotting function provided."
     ]
    },
    {
     "cell_type": "code",
     "collapsed": false,
     "input": [
      "Y_score = logreg.decision_function(X_test)\n",
      "plot_roc(Y_test, Y_score)"
     ],
     "language": "python",
     "metadata": {},
     "outputs": [
      {
       "metadata": {},
       "output_type": "display_data",
       "png": "[encoded data removed]",
       "text": [
        "<matplotlib.figure.Figure at 0x7ffa820fce90>"
       ]
      }
     ],
     "prompt_number": 35
    },
    {
     "cell_type": "code",
     "collapsed": false,
     "input": [
      "sorted(logreg.predict_proba(X_test)[:,1], reverse=True)[:25]"
     ],
     "language": "python",
     "metadata": {},
     "outputs": [
      {
       "metadata": {},
       "output_type": "pyout",
       "prompt_number": 39,
       "text": [
        "[0.85082849308454989,\n",
        " 0.83243458186462904,\n",
        " 0.81579072313743184,\n",
        " 0.79214890127404192,\n",
        " 0.78761408348821382,\n",
        " 0.7789963763697243,\n",
        " 0.77516239955803412,\n",
        " 0.77334191242344574,\n",
        " 0.76641960242091678,\n",
        " 0.76486217468971174,\n",
        " 0.75958950039392858,\n",
        " 0.75864026415017083,\n",
        " 0.75848129956164723,\n",
        " 0.75824578296832956,\n",
        " 0.75287268088913473,\n",
        " 0.7492243897903158,\n",
        " 0.7492243897903158,\n",
        " 0.74621934482057151,\n",
        " 0.74619536208325232,\n",
        " 0.7461921964202104,\n",
        " 0.74371855208531845,\n",
        " 0.73872730796113484,\n",
        " 0.73704858718939714,\n",
        " 0.73171218988062059,\n",
        " 0.7294946388330964]"
       ]
      }
     ],
     "prompt_number": 39
    },
    {
     "cell_type": "code",
     "collapsed": false,
     "input": [
      "X_test['confidence_of_over200k'] = logreg.predict_proba(X_test[['beds', 'baths', 'sq__ft']])[:,1]\n",
      "X_test[X_test.confidence_of_over200k.between(0.728, 0.7295)]"
     ],
     "language": "python",
     "metadata": {},
     "outputs": [
      {
       "html": [
        "<div style=\"max-width:1500px;overflow:auto;\">\n",
        "<table border=\"1\" class=\"dataframe\">\n",
        "  <thead>\n",
        "    <tr style=\"text-align: right;\">\n",
        "      <th></th>\n",
        "      <th>beds</th>\n",
        "      <th>baths</th>\n",
        "      <th>sq__ft</th>\n",
        "      <th>confidence_of_over200k</th>\n",
        "    </tr>\n",
        "  </thead>\n",
        "  <tbody>\n",
        "    <tr>\n",
        "      <th>729</th>\n",
        "      <td>4</td>\n",
        "      <td>3</td>\n",
        "      <td>1915</td>\n",
        "      <td>0.728462</td>\n",
        "    </tr>\n",
        "    <tr>\n",
        "      <th>725</th>\n",
        "      <td>5</td>\n",
        "      <td>3</td>\n",
        "      <td>2258</td>\n",
        "      <td>0.729495</td>\n",
        "    </tr>\n",
        "  </tbody>\n",
        "</table>\n",
        "</div>"
       ],
       "metadata": {},
       "output_type": "pyout",
       "prompt_number": 47,
       "text": [
        "     beds  baths  sq__ft  confidence_of_over200k\n",
        "729     4      3    1915                0.728462\n",
        "725     5      3    2258                0.729495"
       ]
      }
     ],
     "prompt_number": 47
    },
    {
     "cell_type": "markdown",
     "metadata": {},
     "source": [
      "Bonus: when might precision and recall be more useful than the ROC?"
     ]
    },
    {
     "cell_type": "markdown",
     "metadata": {},
     "source": [
      "Precision and recall are more useful when the proportion of the positive class is smaller, since they are sensitive to this."
     ]
    }
   ],
   "metadata": {}
  }
 ]
}