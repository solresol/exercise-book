{
 "metadata": {
  "name": "",
  "signature": "sha256:aea734dd3448135b852d0e4d5aea67a974ce4d3570aa4c614981a6d9cf79614b"
 },
 "nbformat": 3,
 "nbformat_minor": 0,
 "worksheets": [
  {
   "cells": [
    {
     "cell_type": "markdown",
     "metadata": {},
     "source": [
      "# Gradient Descent\n",
      "\n",
      "In this exercise we have a data set which consists of a some periodic\n",
      "data and some noise. We don't have a full cycle for the period, so \n",
      "this isn't easy to work with.\n",
      "\n",
      "What we'll do is use gradient descent to find a likely set of parameters."
     ]
    },
    {
     "cell_type": "markdown",
     "metadata": {},
     "source": [
      "The data is in wheel.csv.\n",
      "\n",
      "We would like to understand the relationship between _seconds_ and _signal_"
     ]
    },
    {
     "cell_type": "code",
     "collapsed": false,
     "input": [
      "import pandas\n",
      "wheel = pandas.read_csv('wheel.csv')"
     ],
     "language": "python",
     "metadata": {},
     "outputs": []
    },
    {
     "cell_type": "code",
     "collapsed": false,
     "input": [
      "# Plot the graph of signal vs seconds.\n",
      "# Does it look linear?"
     ],
     "language": "python",
     "metadata": {},
     "outputs": []
    },
    {
     "cell_type": "markdown",
     "metadata": {},
     "source": [
      "In the following cell, we define the function that we think might be\n",
      "the relationship between signal and seconds, but it has many parameters (a, b and c). \n",
      "\n",
      "The argument _t_ is where we will pass in \"seconds\"; the function returns a value that is hopefully equivalent to signal."
     ]
    },
    {
     "cell_type": "code",
     "collapsed": false,
     "input": [
      "import math\n",
      "def underlying_function(t, a,b,c):\n",
      "    return math.sin(a * t + b) + c"
     ],
     "language": "python",
     "metadata": {},
     "outputs": []
    },
    {
     "cell_type": "markdown",
     "metadata": {},
     "source": [
      "We need a function that says how close a match a particular set of\n",
      "parameters are: let's use the mean squared error to make sense of it."
     ]
    },
    {
     "cell_type": "code",
     "collapsed": false,
     "input": [
      "import sklearn.metrics\n",
      "\n",
      "def try_a_b_c(a,b,c):\n",
      "    this_try = [underlying_function(w, a, b, c) for w in wheel.seconds]\n",
      "    return sklearn.metrics.mean_squared_error(this_try, wheel.signal)"
     ],
     "language": "python",
     "metadata": {},
     "outputs": []
    },
    {
     "cell_type": "markdown",
     "metadata": {},
     "source": [
      "We don't need an exact derivative: a close approximation will do.\n",
      "\n",
      "try_a_b_c is a function in three dimensions (a, b and c) so the gradient\n",
      "is a 3-dimensional vector (which we store in a numpy array)."
     ]
    },
    {
     "cell_type": "code",
     "collapsed": false,
     "input": [
      "import numpy\n",
      "def gradient_of_try_a_b_c(a, b, c, delta=0.0001):\n",
      "    here = try_a_b_c(a,b,c)\n",
      "    a_gradient = (try_a_b_c(a+delta, b, c) - here) / delta\n",
      "    b_gradient = (try_a_b_c(a, b+delta, c) - here) / delta\n",
      "    c_gradient = (try_a_b_c(a, b, c+delta) - here) / delta\n",
      "    return numpy.array([a_gradient,b_gradient,c_gradient])"
     ],
     "language": "python",
     "metadata": {},
     "outputs": []
    },
    {
     "cell_type": "markdown",
     "metadata": {},
     "source": [
      "The following code implements gradient descent."
     ]
    },
    {
     "cell_type": "code",
     "collapsed": false,
     "input": [
      "def gradient_descent(gradient_func, a0, b0, c0, l=0.01):\n",
      "    vector = numpy.array([a0, b0, c0])\n",
      "    g = gradient_func(a0, b0, c0)\n",
      "    return vector - l * g\n",
      "\n",
      "def gradient_descent_iterate(starting_point, \n",
      "                             gradient=gradient_of_try_a_b_c, \n",
      "                             n=10,\n",
      "                             l=0.01):\n",
      "    points = [starting_point]\n",
      "    for i in range(n):\n",
      "        (a,b,c) = points[-1]\n",
      "        new_point = gradient_descent(gradient, a,b,c, l)\n",
      "        points.append(new_point)\n",
      "    return points"
     ],
     "language": "python",
     "metadata": {},
     "outputs": []
    },
    {
     "cell_type": "markdown",
     "metadata": {},
     "source": [
      "Pick a starting point: it doesn't matter much which point you choose."
     ]
    },
    {
     "cell_type": "code",
     "collapsed": false,
     "input": [
      "starting_point = numpy.array([   ,     ,   ])"
     ],
     "language": "python",
     "metadata": {},
     "outputs": []
    },
    {
     "cell_type": "markdown",
     "metadata": {},
     "source": [
      "What's the value of try_a_b_c at this starting point?"
     ]
    },
    {
     "cell_type": "code",
     "collapsed": false,
     "input": [],
     "language": "python",
     "metadata": {},
     "outputs": []
    },
    {
     "cell_type": "markdown",
     "metadata": {},
     "source": [
      "Iterate one step with gradient_descent_iterate. What does it suggest\n",
      "is a better point (with a lower error)?"
     ]
    },
    {
     "cell_type": "code",
     "collapsed": false,
     "input": [],
     "language": "python",
     "metadata": {},
     "outputs": []
    },
    {
     "cell_type": "markdown",
     "metadata": {},
     "source": [
      "What's the value of try_a_b_c at this point?"
     ]
    },
    {
     "cell_type": "code",
     "collapsed": false,
     "input": [],
     "language": "python",
     "metadata": {},
     "outputs": []
    },
    {
     "cell_type": "markdown",
     "metadata": {},
     "source": [
      "What about if you iterate 100 times? Or 1000 times? Try some different\n",
      "learning rates."
     ]
    },
    {
     "cell_type": "code",
     "collapsed": false,
     "input": [],
     "language": "python",
     "metadata": {},
     "outputs": []
    },
    {
     "cell_type": "markdown",
     "metadata": {},
     "source": [
      "Try to guess the values of a, b and c . Evaluate try_a_b_c at this point"
     ]
    },
    {
     "cell_type": "code",
     "collapsed": false,
     "input": [],
     "language": "python",
     "metadata": {},
     "outputs": []
    },
    {
     "cell_type": "markdown",
     "metadata": {},
     "source": [
      "Use underlying_function with the a,b and c you found, and use it to \n",
      "make predictions for signal from seconds. Plot the results. How well does it compare?"
     ]
    },
    {
     "cell_type": "code",
     "collapsed": false,
     "input": [],
     "language": "python",
     "metadata": {},
     "outputs": []
    }
   ],
   "metadata": {}
  }
 ]
}